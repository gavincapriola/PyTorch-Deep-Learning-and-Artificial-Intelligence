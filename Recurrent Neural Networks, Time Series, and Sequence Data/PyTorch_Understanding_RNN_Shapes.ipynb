{
  "nbformat": 4,
  "nbformat_minor": 0,
  "metadata": {
    "colab": {
      "provenance": [],
      "authorship_tag": "ABX9TyM4chlP4zKetP4xBhwAFyLo",
      "include_colab_link": true
    },
    "kernelspec": {
      "name": "python3",
      "display_name": "Python 3"
    },
    "language_info": {
      "name": "python"
    }
  },
  "cells": [
    {
      "cell_type": "markdown",
      "metadata": {
        "id": "view-in-github",
        "colab_type": "text"
      },
      "source": [
        "<a href=\"https://colab.research.google.com/github/gavincapriola/PyTorch-Deep-Learning-and-Artificial-Intelligence/blob/main/Recurrent%20Neural%20Networks%2C%20Time%20Series%2C%20and%20Sequence%20Data/PyTorch_Understanding_RNN_Shapes.ipynb\" target=\"_parent\"><img src=\"https://colab.research.google.com/assets/colab-badge.svg\" alt=\"Open In Colab\"/></a>"
      ]
    },
    {
      "cell_type": "code",
      "execution_count": 1,
      "metadata": {
        "id": "-z9nwLiD4Fx7"
      },
      "outputs": [],
      "source": [
        "import torch\n",
        "import torch.nn as nn\n",
        "import numpy as np\n",
        "import matplotlib.pyplot as plt"
      ]
    },
    {
      "cell_type": "code",
      "source": [
        "# N = number of samples\n",
        "# T = sequence length\n",
        "# D = number of input features\n",
        "# M = number of hidden units\n",
        "# K = number of output units"
      ],
      "metadata": {
        "id": "gKX739NB4K1Z"
      },
      "execution_count": 2,
      "outputs": []
    },
    {
      "cell_type": "code",
      "source": [
        "N = 1\n",
        "T = 10\n",
        "D = 3\n",
        "M = 5\n",
        "K = 2\n",
        "X = np.random.randn(N, T, D)"
      ],
      "metadata": {
        "id": "Dpfn6HpA4pR7"
      },
      "execution_count": 3,
      "outputs": []
    },
    {
      "cell_type": "code",
      "source": [
        "class SimpleRNN(nn.Module):\n",
        "    def __init__(self, n_inputs, n_hidden, n_outputs):\n",
        "        super(SimpleRNN, self).__init__()\n",
        "        self.D = n_inputs\n",
        "        self.M = n_hidden\n",
        "        self.K = n_outputs\n",
        "        self.rnn = nn.RNN(\n",
        "            input_size = self.D,\n",
        "            hidden_size = self.M,\n",
        "            nonlinearity='tanh',\n",
        "            batch_first=True)\n",
        "        self.fc = nn.Linear(self.M, self.K)\n",
        "\n",
        "    def forward(self, X):\n",
        "        # initial hidden states\n",
        "        h0 = torch.zeros(1, X.size(0), self.M)\n",
        "\n",
        "        # get RNN unit output\n",
        "        out, _ = self.rnn(X, h0)\n",
        "\n",
        "        # we only want h(T) at the final time step\n",
        "        # out = self.fc(out[:, -1, :])\n",
        "        out = self.fc(out)\n",
        "        return out"
      ],
      "metadata": {
        "id": "Mc8hVTdP5lQc"
      },
      "execution_count": 4,
      "outputs": []
    },
    {
      "cell_type": "code",
      "source": [
        "# instantiate the model\n",
        "model = SimpleRNN(n_inputs=D, n_hidden=M, n_outputs=K)"
      ],
      "metadata": {
        "id": "nY4Cg_Ks6GVw"
      },
      "execution_count": 5,
      "outputs": []
    },
    {
      "cell_type": "code",
      "source": [
        "inputs = torch.from_numpy(X.astype(np.float32))\n",
        "out = model(inputs)\n",
        "out"
      ],
      "metadata": {
        "colab": {
          "base_uri": "https://localhost:8080/"
        },
        "id": "pq3ASVpU6MWk",
        "outputId": "1a90949f-a907-4501-d329-5b7472f8db83"
      },
      "execution_count": 6,
      "outputs": [
        {
          "output_type": "execute_result",
          "data": {
            "text/plain": [
              "tensor([[[ 0.3052,  0.0322],\n",
              "         [ 0.3850,  0.0348],\n",
              "         [ 0.4302,  0.1432],\n",
              "         [ 0.3669,  0.0843],\n",
              "         [ 0.3188, -0.0043],\n",
              "         [ 0.3368,  0.1887],\n",
              "         [ 0.4083,  0.1227],\n",
              "         [ 0.4553,  0.2726],\n",
              "         [ 0.4458,  0.0290],\n",
              "         [ 0.3110,  0.2483]]], grad_fn=<ViewBackward0>)"
            ]
          },
          "metadata": {},
          "execution_count": 6
        }
      ]
    },
    {
      "cell_type": "code",
      "source": [
        "out.shape"
      ],
      "metadata": {
        "colab": {
          "base_uri": "https://localhost:8080/"
        },
        "id": "oP6oo4Rs6m1N",
        "outputId": "8a48cdc7-e8f6-4645-ac65-cb998f6b7092"
      },
      "execution_count": 7,
      "outputs": [
        {
          "output_type": "execute_result",
          "data": {
            "text/plain": [
              "torch.Size([1, 10, 2])"
            ]
          },
          "metadata": {},
          "execution_count": 7
        }
      ]
    },
    {
      "cell_type": "code",
      "source": [
        "Yhats_torch = out.detach().numpy()"
      ],
      "metadata": {
        "id": "-MuUeSkp64R-"
      },
      "execution_count": 8,
      "outputs": []
    },
    {
      "cell_type": "code",
      "source": [
        "W_xh, W_hh, b_xh, b_hh = model.rnn.parameters()"
      ],
      "metadata": {
        "id": "VkvV9IpB7GV1"
      },
      "execution_count": 9,
      "outputs": []
    },
    {
      "cell_type": "code",
      "source": [
        "W_xh.shape"
      ],
      "metadata": {
        "colab": {
          "base_uri": "https://localhost:8080/"
        },
        "id": "RBThye3S7NJR",
        "outputId": "1ca32e42-d22b-462a-e3e9-abb00eea1063"
      },
      "execution_count": 10,
      "outputs": [
        {
          "output_type": "execute_result",
          "data": {
            "text/plain": [
              "torch.Size([5, 3])"
            ]
          },
          "metadata": {},
          "execution_count": 10
        }
      ]
    },
    {
      "cell_type": "code",
      "source": [
        "W_xh"
      ],
      "metadata": {
        "colab": {
          "base_uri": "https://localhost:8080/"
        },
        "id": "XeGvi5eB7PKa",
        "outputId": "f6b9fe51-44cf-46c6-c0eb-1e405c6bc8c3"
      },
      "execution_count": 11,
      "outputs": [
        {
          "output_type": "execute_result",
          "data": {
            "text/plain": [
              "Parameter containing:\n",
              "tensor([[-0.0583,  0.1432, -0.1509],\n",
              "        [ 0.1783, -0.4198, -0.2081],\n",
              "        [-0.3898, -0.1274, -0.4256],\n",
              "        [-0.1926,  0.1752, -0.0914],\n",
              "        [ 0.2632, -0.4357,  0.3977]], requires_grad=True)"
            ]
          },
          "metadata": {},
          "execution_count": 11
        }
      ]
    },
    {
      "cell_type": "code",
      "source": [
        "W_xh = W_xh.data.numpy()\n",
        "W_xh"
      ],
      "metadata": {
        "colab": {
          "base_uri": "https://localhost:8080/"
        },
        "id": "xiBOqSno7Qa_",
        "outputId": "789239f2-747b-438b-9795-48ac11a9d1f4"
      },
      "execution_count": 12,
      "outputs": [
        {
          "output_type": "execute_result",
          "data": {
            "text/plain": [
              "array([[-0.05833443,  0.14320727, -0.15093853],\n",
              "       [ 0.17830102, -0.41984183, -0.20810212],\n",
              "       [-0.3897575 , -0.12744461, -0.42555484],\n",
              "       [-0.19261828,  0.17519453, -0.09139983],\n",
              "       [ 0.26319155, -0.43568662,  0.39767164]], dtype=float32)"
            ]
          },
          "metadata": {},
          "execution_count": 12
        }
      ]
    },
    {
      "cell_type": "code",
      "source": [
        "b_xh = b_xh.data.numpy()\n",
        "W_hh = W_hh.data.numpy()\n",
        "b_hh = b_hh.data.numpy()"
      ],
      "metadata": {
        "id": "8sg8SXaN7XKS"
      },
      "execution_count": 13,
      "outputs": []
    },
    {
      "cell_type": "code",
      "source": [
        "W_xh.shape, b_xh.shape, W_hh.shape, b_hh.shape"
      ],
      "metadata": {
        "colab": {
          "base_uri": "https://localhost:8080/"
        },
        "id": "pE7dbmqd8Pp9",
        "outputId": "bc7656c2-50fb-4ba0-a008-1d360f07a4e9"
      },
      "execution_count": 14,
      "outputs": [
        {
          "output_type": "execute_result",
          "data": {
            "text/plain": [
              "((5, 3), (5,), (5, 5), (5,))"
            ]
          },
          "metadata": {},
          "execution_count": 14
        }
      ]
    },
    {
      "cell_type": "code",
      "source": [
        "Wo, bo = model.fc.parameters()"
      ],
      "metadata": {
        "id": "oR11EMDB8cET"
      },
      "execution_count": 15,
      "outputs": []
    },
    {
      "cell_type": "code",
      "source": [
        "Wo = Wo.data.numpy()\n",
        "bo = bo.data.numpy()\n",
        "Wo.shape, bo.shape"
      ],
      "metadata": {
        "colab": {
          "base_uri": "https://localhost:8080/"
        },
        "id": "EFILReMy8mJx",
        "outputId": "97cc8991-6c9c-4eb6-d13b-621c4ac5652a"
      },
      "execution_count": 16,
      "outputs": [
        {
          "output_type": "execute_result",
          "data": {
            "text/plain": [
              "((2, 5), (2,))"
            ]
          },
          "metadata": {},
          "execution_count": 16
        }
      ]
    },
    {
      "cell_type": "code",
      "source": [
        "h_last = np.zeros(M)\n",
        "x = X[0]\n",
        "Yhats = np.zeros((T, K))\n",
        "\n",
        "for t in range(T):\n",
        "    h = np.tanh(x[t].dot(W_xh.T) + b_xh + h_last.dot(W_hh.T) + b_hh)\n",
        "    y = h.dot(Wo.T) + bo\n",
        "    Yhats[t] = y\n",
        "\n",
        "    h_last = h\n",
        "\n",
        "print(Yhats)"
      ],
      "metadata": {
        "colab": {
          "base_uri": "https://localhost:8080/"
        },
        "id": "pG9f_kCa8unu",
        "outputId": "2a82cd44-5a37-46d2-8935-9df6b8922d65"
      },
      "execution_count": 17,
      "outputs": [
        {
          "output_type": "stream",
          "name": "stdout",
          "text": [
            "[[ 0.30515769  0.03224457]\n",
            " [ 0.38502327  0.03481357]\n",
            " [ 0.43020341  0.14316116]\n",
            " [ 0.36685014  0.08428476]\n",
            " [ 0.31881396 -0.00428434]\n",
            " [ 0.33684543  0.18869066]\n",
            " [ 0.40833317  0.12269639]\n",
            " [ 0.45525897  0.27256941]\n",
            " [ 0.44578751  0.02898197]\n",
            " [ 0.31095421  0.24827278]]\n"
          ]
        }
      ]
    },
    {
      "cell_type": "code",
      "source": [
        "np.allclose(Yhats, Yhats_torch)"
      ],
      "metadata": {
        "colab": {
          "base_uri": "https://localhost:8080/"
        },
        "id": "CgewCH2V91ok",
        "outputId": "08165ef9-9c3f-4cae-ce2d-ef43bd3f0b63"
      },
      "execution_count": 18,
      "outputs": [
        {
          "output_type": "execute_result",
          "data": {
            "text/plain": [
              "True"
            ]
          },
          "metadata": {},
          "execution_count": 18
        }
      ]
    }
  ]
}