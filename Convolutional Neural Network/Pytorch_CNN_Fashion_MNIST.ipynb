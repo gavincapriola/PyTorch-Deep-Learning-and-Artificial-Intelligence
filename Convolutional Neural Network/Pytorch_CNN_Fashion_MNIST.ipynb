{
  "nbformat": 4,
  "nbformat_minor": 0,
  "metadata": {
    "colab": {
      "provenance": [],
      "collapsed_sections": [],
      "authorship_tag": "ABX9TyMM/RGgjeQNdSg2vrFMZq2E",
      "include_colab_link": true
    },
    "kernelspec": {
      "name": "python3",
      "display_name": "Python 3"
    },
    "language_info": {
      "name": "python"
    }
  },
  "cells": [
    {
      "cell_type": "markdown",
      "metadata": {
        "id": "view-in-github",
        "colab_type": "text"
      },
      "source": [
        "<a href=\"https://colab.research.google.com/github/gavincapriola/PyTorch-Deep-Learning-and-Artificial-Intelligence/blob/main/Convolutional%20Neural%20Network/Pytorch_CNN_Fashion_MNIST.ipynb\" target=\"_parent\"><img src=\"https://colab.research.google.com/assets/colab-badge.svg\" alt=\"Open In Colab\"/></a>"
      ]
    },
    {
      "cell_type": "code",
      "execution_count": null,
      "metadata": {
        "id": "2vRN-_RNxfXq"
      },
      "outputs": [],
      "source": [
        "import torch\n",
        "import torch.nn as nn\n",
        "import torchvision\n",
        "import torchvision.transforms as transforms\n",
        "import numpy as np\n",
        "import matplotlib.pyplot as plt\n",
        "from datetime import datetime"
      ]
    },
    {
      "cell_type": "code",
      "source": [
        "train_dataset = torchvision.datasets.FashionMNIST(\n",
        "    root='.',\n",
        "    train=True,\n",
        "    transform=transforms.ToTensor(),\n",
        "    download=True)"
      ],
      "metadata": {
        "id": "HXAzJe3IxjP7"
      },
      "execution_count": null,
      "outputs": []
    },
    {
      "cell_type": "code",
      "source": [
        "train_dataset.data.max()"
      ],
      "metadata": {
        "colab": {
          "base_uri": "https://localhost:8080/"
        },
        "id": "95X-voRixkJL",
        "outputId": "59d47bf1-3bb2-4f87-df22-0200fff0a26f"
      },
      "execution_count": null,
      "outputs": [
        {
          "output_type": "execute_result",
          "data": {
            "text/plain": [
              "tensor(255, dtype=torch.uint8)"
            ]
          },
          "metadata": {},
          "execution_count": 3
        }
      ]
    },
    {
      "cell_type": "code",
      "source": [
        "train_dataset.data.shape"
      ],
      "metadata": {
        "colab": {
          "base_uri": "https://localhost:8080/"
        },
        "id": "N2jwAcHNxlLL",
        "outputId": "f4b37639-5197-4fd0-cfc2-69e6c911c9de"
      },
      "execution_count": null,
      "outputs": [
        {
          "output_type": "execute_result",
          "data": {
            "text/plain": [
              "torch.Size([60000, 28, 28])"
            ]
          },
          "metadata": {},
          "execution_count": 4
        }
      ]
    },
    {
      "cell_type": "code",
      "source": [
        "train_dataset.targets"
      ],
      "metadata": {
        "colab": {
          "base_uri": "https://localhost:8080/"
        },
        "id": "jEC27NxAxmH6",
        "outputId": "1fae9b83-02b2-481c-be7f-c0fe6db772cd"
      },
      "execution_count": null,
      "outputs": [
        {
          "output_type": "execute_result",
          "data": {
            "text/plain": [
              "tensor([9, 0, 0,  ..., 3, 0, 5])"
            ]
          },
          "metadata": {},
          "execution_count": 5
        }
      ]
    },
    {
      "cell_type": "code",
      "source": [
        "test_dataset = torchvision.datasets.FashionMNIST(\n",
        "    root='.',\n",
        "    train=False,\n",
        "    transform=transforms.ToTensor(),\n",
        "    download=True)"
      ],
      "metadata": {
        "id": "XL0WwvrjxmQ7"
      },
      "execution_count": null,
      "outputs": []
    },
    {
      "cell_type": "code",
      "source": [
        "# number of classes\n",
        "K = len(set(train_dataset.targets.numpy()))\n",
        "print(f'Number of classes: {K}')"
      ],
      "metadata": {
        "colab": {
          "base_uri": "https://localhost:8080/"
        },
        "id": "PywFB6I6xoHT",
        "outputId": "e7d44f28-fbad-46d1-a796-e255d55e9d8f"
      },
      "execution_count": null,
      "outputs": [
        {
          "output_type": "stream",
          "name": "stdout",
          "text": [
            "Number of classes: 10\n"
          ]
        }
      ]
    },
    {
      "cell_type": "code",
      "source": [
        "# Define the model\n",
        "class CNN(nn.Module):\n",
        "    def __init__(self, K):\n",
        "        super(CNN, self).__init__()\n",
        "        self.conv_layers = nn.Sequential(\n",
        "            nn.Conv2d(in_channels=1, out_channels=32, kernel_size=3, stride=2),\n",
        "            nn.ReLU(),\n",
        "            nn.Conv2d(in_channels=32, out_channels=64, kernel_size=3, stride=2),\n",
        "            nn.ReLU(),\n",
        "            nn.Conv2d(in_channels=64, out_channels=128, kernel_size=3, stride=2),\n",
        "            nn.ReLU()\n",
        "        )\n",
        "        # http://deeplearning.net/software/theano/tutorial/conv_arithmetic.html\n",
        "        # \"No zero padding, non-unit strides\"\n",
        "        # https://pytorch.org/docs/stable/nn.html\n",
        "        self.dense_layers = nn.Sequential(\n",
        "            nn.Dropout(0.2),\n",
        "            nn.Linear(128 * 2 * 2, 512),\n",
        "            nn.ReLU(),\n",
        "            nn.Dropout(0.2),\n",
        "            nn.Linear(512, K)\n",
        "        )\n",
        "\n",
        "    def forward(self, X):\n",
        "        out = self.conv_layers(X)\n",
        "        out = out.view(out.size(0), -1)\n",
        "        out = self.dense_layers(out)\n",
        "        return out"
      ],
      "metadata": {
        "id": "1MMQS3aQxpJj"
      },
      "execution_count": null,
      "outputs": []
    },
    {
      "cell_type": "code",
      "source": [
        "# Instantiate the model\n",
        "model = CNN(K)"
      ],
      "metadata": {
        "id": "WImiaTM_xqVa"
      },
      "execution_count": null,
      "outputs": []
    },
    {
      "cell_type": "code",
      "source": [
        "# The same model! Using the newly introduced \"Flatten\"\n",
        "# model = nn.Sequential(\n",
        "#     nn.Conv2d(in_channels=1, out_channels=32, kernel_size=3, stride=2),\n",
        "#     nn.ReLU(),\n",
        "#     nn.Conv2d(in_channels=32, out_channels=64, kernel_size=3, stride=2),\n",
        "#     nn.ReLU(),\n",
        "#     nn.Conv2d(in_channels=64, out_channels=128, kernel_size=3, stride=2),\n",
        "#     nn.ReLU(),\n",
        "#     nn.Flatten(),\n",
        "#     nn.Dropout(0.2),\n",
        "#     nn.Linear(128 * 2 * 2, 512),\n",
        "#     nn.ReLU(),\n",
        "#     nn.Dropout(0.2),\n",
        "#     nn.Linear(512, K)\n",
        "# )"
      ],
      "metadata": {
        "id": "4OMv1R4HxrTD"
      },
      "execution_count": null,
      "outputs": []
    },
    {
      "cell_type": "code",
      "source": [
        "device = torch.device('cuda:0' if torch.cuda.is_available() else 'cpu')\n",
        "print(device)\n",
        "model.to(device)"
      ],
      "metadata": {
        "colab": {
          "base_uri": "https://localhost:8080/"
        },
        "id": "BDmHIO7rxsSk",
        "outputId": "a84c6ee9-6ec7-4608-ffae-ed48b487d80b"
      },
      "execution_count": null,
      "outputs": [
        {
          "output_type": "stream",
          "name": "stdout",
          "text": [
            "cpu\n"
          ]
        },
        {
          "output_type": "execute_result",
          "data": {
            "text/plain": [
              "CNN(\n",
              "  (conv_layers): Sequential(\n",
              "    (0): Conv2d(1, 32, kernel_size=(3, 3), stride=(2, 2))\n",
              "    (1): ReLU()\n",
              "    (2): Conv2d(32, 64, kernel_size=(3, 3), stride=(2, 2))\n",
              "    (3): ReLU()\n",
              "    (4): Conv2d(64, 128, kernel_size=(3, 3), stride=(2, 2))\n",
              "    (5): ReLU()\n",
              "  )\n",
              "  (dense_layers): Sequential(\n",
              "    (0): Dropout(p=0.2, inplace=False)\n",
              "    (1): Linear(in_features=512, out_features=512, bias=True)\n",
              "    (2): ReLU()\n",
              "    (3): Dropout(p=0.2, inplace=False)\n",
              "    (4): Linear(in_features=512, out_features=10, bias=True)\n",
              "  )\n",
              ")"
            ]
          },
          "metadata": {},
          "execution_count": 11
        }
      ]
    },
    {
      "cell_type": "code",
      "source": [
        "# Loss and optimizer\n",
        "criterion = nn.CrossEntropyLoss()\n",
        "optimizer = torch.optim.Adam(model.parameters())"
      ],
      "metadata": {
        "id": "8e4x5gmmxtQN"
      },
      "execution_count": null,
      "outputs": []
    },
    {
      "cell_type": "code",
      "source": [
        "# Data loader\n",
        "# Useful because it automatically generates batches in the training loop\n",
        "# and takes care of shuffling \n",
        "\n",
        "batch_size = 128\n",
        "train_loader = torch.utils.data.DataLoader(\n",
        "    dataset=train_dataset,\n",
        "    batch_size=batch_size,\n",
        "    shuffle=True)\n",
        "\n",
        "test_loader = torch.utils.data.DataLoader(\n",
        "    dataset=test_dataset,\n",
        "    batch_size=batch_size,\n",
        "    shuffle=False)"
      ],
      "metadata": {
        "id": "5UzuJCO0xuLb"
      },
      "execution_count": null,
      "outputs": []
    },
    {
      "cell_type": "code",
      "source": [
        "# A function to encapsulate the training loop\n",
        "def batch_gd(model, criterion, optimizer, train_loader, test_loader, epochs):\n",
        "    train_losses = np.zeros(epochs)\n",
        "    test_losses = np.zeros(epochs)\n",
        "\n",
        "    for it in range(epochs):\n",
        "        model.train()\n",
        "        t0 = datetime.now()\n",
        "        train_loss = []\n",
        "        for inputs, targets in train_loader:\n",
        "            # move data to GPU\n",
        "            inputs, targets = inputs.to(device), targets.to(device)\n",
        "\n",
        "            # zero the parameter gradients\n",
        "            optimizer.zero_grad()\n",
        "\n",
        "            # Forward pass\n",
        "            outputs = model(inputs)\n",
        "            loss = criterion(outputs, targets)\n",
        "\n",
        "            # Backward and optimize\n",
        "            loss.backward()\n",
        "            optimizer.step()\n",
        "\n",
        "            train_loss.append(loss.item())\n",
        "\n",
        "        # Get train loss and test loss\n",
        "        train_loss = np.mean(train_loss) # a little misleading\n",
        "\n",
        "        model.eval()\n",
        "        test_loss = []\n",
        "        for inputs, targets in test_loader:\n",
        "            inputs, targets = inputs.to(device), targets.to(device)\n",
        "            outputs = model(inputs)\n",
        "            loss = criterion(outputs, targets)\n",
        "            test_loss.append(loss.item())\n",
        "        test_loss = np.mean(test_loss)\n",
        "\n",
        "        # Save losses\n",
        "        train_losses[it] = train_loss\n",
        "        test_losses[it] = test_loss\n",
        "\n",
        "        dt = datetime.now() - t0\n",
        "        print(f'Epoch {it+1}/{epochs}, Train Loss: {train_loss:.4f}, \\\n",
        "            Test Loss: {test_loss:.4f}, Duration: {dt}')\n",
        "\n",
        "    return train_losses, test_losses"
      ],
      "metadata": {
        "id": "_rUs5uMaxvQD"
      },
      "execution_count": null,
      "outputs": []
    },
    {
      "cell_type": "code",
      "source": [
        "train_losses, test_losses = batch_gd(\n",
        "    model, criterion, optimizer, train_loader, test_loader, epochs=15)"
      ],
      "metadata": {
        "colab": {
          "base_uri": "https://localhost:8080/"
        },
        "id": "ZpAkxKSOxwGD",
        "outputId": "efa17051-c893-4d6c-ac78-f0305e9b88be"
      },
      "execution_count": null,
      "outputs": [
        {
          "output_type": "stream",
          "name": "stdout",
          "text": [
            "Epoch 1/15, Train Loss: 0.6484,             Test Loss: 0.4669, Duration: 0:00:32.624197\n",
            "Epoch 2/15, Train Loss: 0.4289,             Test Loss: 0.4127, Duration: 0:00:30.898616\n",
            "Epoch 3/15, Train Loss: 0.3728,             Test Loss: 0.3728, Duration: 0:00:30.208532\n",
            "Epoch 4/15, Train Loss: 0.3376,             Test Loss: 0.3474, Duration: 0:00:35.796335\n",
            "Epoch 5/15, Train Loss: 0.3088,             Test Loss: 0.3177, Duration: 0:00:29.888071\n",
            "Epoch 6/15, Train Loss: 0.2857,             Test Loss: 0.3119, Duration: 0:00:27.973204\n",
            "Epoch 7/15, Train Loss: 0.2688,             Test Loss: 0.2977, Duration: 0:00:29.375990\n",
            "Epoch 8/15, Train Loss: 0.2500,             Test Loss: 0.2904, Duration: 0:00:28.339862\n",
            "Epoch 9/15, Train Loss: 0.2357,             Test Loss: 0.2931, Duration: 0:00:27.923555\n",
            "Epoch 10/15, Train Loss: 0.2233,             Test Loss: 0.2816, Duration: 0:00:28.249886\n",
            "Epoch 11/15, Train Loss: 0.2093,             Test Loss: 0.2824, Duration: 0:00:27.782989\n",
            "Epoch 12/15, Train Loss: 0.1966,             Test Loss: 0.2832, Duration: 0:00:27.903185\n",
            "Epoch 13/15, Train Loss: 0.1884,             Test Loss: 0.2837, Duration: 0:00:29.065568\n",
            "Epoch 14/15, Train Loss: 0.1775,             Test Loss: 0.2819, Duration: 0:00:28.191674\n",
            "Epoch 15/15, Train Loss: 0.1644,             Test Loss: 0.2902, Duration: 0:00:28.309867\n"
          ]
        }
      ]
    },
    {
      "cell_type": "code",
      "source": [
        "# Plot the training and test losses per iteration\n",
        "plt.plot(train_losses, label='train loss')\n",
        "plt.plot(test_losses, label='test loss')\n",
        "plt.legend()\n",
        "plt.show()"
      ],
      "metadata": {
        "colab": {
          "base_uri": "https://localhost:8080/",
          "height": 265
        },
        "id": "ntctUowPxxID",
        "outputId": "932c0767-791d-4fa7-ab68-067e9a3c8012"
      },
      "execution_count": null,
      "outputs": [
        {
          "output_type": "display_data",
          "data": {
            "text/plain": [
              "<Figure size 432x288 with 1 Axes>"
            ],
            "image/png": "[encoded data removed]"
          },
          "metadata": {
            "needs_background": "light"
          }
        }
      ]
    },
    {
      "cell_type": "code",
      "source": [
        "# Accuracy\n",
        "\n",
        "model.eval()\n",
        "n_correct = 0.\n",
        "n_total = 0.\n",
        "for inputs, targets in train_loader:\n",
        "    # move data to GPU\n",
        "    inputs, targets = inputs.to(device), targets.to(device)\n",
        "\n",
        "    # Forward pass\n",
        "    outputs = model(inputs)\n",
        "\n",
        "    # Get predictions\n",
        "    # torch.max returns both max and argmax\n",
        "    _, predictions = torch.max(outputs, 1)\n",
        "\n",
        "    # update counts\n",
        "    n_correct += (predictions == targets).sum().item()\n",
        "    n_total += targets.shape[0]\n",
        "\n",
        "train_acc = n_correct / n_total\n",
        "\n",
        "n_correct = 0.\n",
        "n_total = 0.\n",
        "for inputs, targets in test_loader:\n",
        "    # move data to GPU\n",
        "    inputs, targets = inputs.to(device), targets.to(device)\n",
        "\n",
        "    # Forward pass\n",
        "    outputs = model(inputs)\n",
        "\n",
        "    # Get predictions\n",
        "    # torch.max returns both max and argmax\n",
        "    _, predictions = torch.max(outputs, 1)\n",
        "\n",
        "    # update counts\n",
        "    n_correct += (predictions == targets).sum().item()\n",
        "    n_total += targets.shape[0]\n",
        "\n",
        "test_acc = n_correct / n_total\n",
        "print(f'Train acc: {train_acc:.4f}, Test acc: {test_acc:.4f}')"
      ],
      "metadata": {
        "colab": {
          "base_uri": "https://localhost:8080/"
        },
        "id": "WYRaf2rUxyC7",
        "outputId": "b370a855-23a2-4dac-d94a-be70bf490995"
      },
      "execution_count": null,
      "outputs": [
        {
          "output_type": "stream",
          "name": "stdout",
          "text": [
            "Train acc: 0.9553, Test acc: 0.9041\n"
          ]
        }
      ]
    },
    {
      "cell_type": "code",
      "source": [
        "# Confusion matrix\n",
        "from sklearn.metrics import confusion_matrix\n",
        "import itertools\n",
        "\n",
        "def plot_confusion_matrix(cm, classes,\n",
        "                          normalize=False,\n",
        "                          title='Confusion matrix',\n",
        "                          cmap=plt.cm.Blues):\n",
        "    \"\"\"\n",
        "    This function prints and plots the confusion matrix.\n",
        "    Normalization can be applied by setting `normalize=True`.\n",
        "    \"\"\"\n",
        "    if normalize:\n",
        "        cm = cm.astype('float') / cm.sum(axis=1)[:, np.newaxis]\n",
        "        print(\"Normalized confusion matrix\")\n",
        "    else:\n",
        "        print('Confusion matrix, without normalization')\n",
        "\n",
        "    print(cm)\n",
        "\n",
        "    plt.imshow(cm, interpolation='nearest', cmap=cmap)\n",
        "    plt.title(title)\n",
        "    plt.colorbar()\n",
        "    tick_marks = np.arange(len(classes))\n",
        "    plt.xticks(tick_marks, classes, rotation=45)\n",
        "    plt.yticks(tick_marks, classes)\n",
        "\n",
        "    fmt = '.2f' if normalize else 'd'\n",
        "    thresh = cm.max() / 2.\n",
        "    for i, j in itertools.product(range(cm.shape[0]), range(cm.shape[1])):\n",
        "        plt.text(j, i, format(cm[i, j], fmt),\n",
        "                 horizontalalignment=\"center\",\n",
        "                 color=\"white\" if cm[i, j] > thresh else \"black\")\n",
        "\n",
        "    plt.tight_layout()\n",
        "    plt.ylabel('True label')\n",
        "    plt.xlabel('Predicted label')"
      ],
      "metadata": {
        "id": "4OSi-VWNxy_D"
      },
      "execution_count": null,
      "outputs": []
    },
    {
      "cell_type": "code",
      "source": [
        "# get all predictions in an array and plot confusion matrix\n",
        "\n",
        "x_test = test_dataset.data.numpy()\n",
        "y_test = test_dataset.targets.numpy()\n",
        "p_test = np.array([])\n",
        "for inputs, targets in test_loader:\n",
        "    # move data to GPU\n",
        "    inputs, targets = inputs.to(device), targets.to(device)\n",
        "\n",
        "    # Forward pass\n",
        "    outputs = model(inputs)\n",
        "\n",
        "    # Get predictions\n",
        "    _, predictions = torch.max(outputs, 1)\n",
        "\n",
        "    # update p_test\n",
        "    p_test = np.concatenate((p_test, predictions.cpu().numpy()))\n",
        "\n",
        "cm = confusion_matrix(y_test, p_test)\n",
        "plot_confusion_matrix(cm, list(range(10)))"
      ],
      "metadata": {
        "colab": {
          "base_uri": "https://localhost:8080/",
          "height": 502
        },
        "id": "Vpp-Satex0Fz",
        "outputId": "2dea51be-e1f1-4357-bbe8-d7801fb429bf"
      },
      "execution_count": null,
      "outputs": [
        {
          "output_type": "stream",
          "name": "stdout",
          "text": [
            "Confusion matrix, without normalization\n",
            "[[908   1  21  20   4   1  40   0   5   0]\n",
            " [  2 974   1  17   2   0   3   0   1   0]\n",
            " [ 22   0 883  12  43   0  38   0   2   0]\n",
            " [ 18   2  18 924  25   0  13   0   0   0]\n",
            " [  0   1  67  16 847   0  68   0   1   0]\n",
            " [  0   0   0   1   0 971   0  17   0  11]\n",
            " [152   1  88  25  84   1 644   0   5   0]\n",
            " [  0   0   0   0   0  14   0 970   0  16]\n",
            " [  2   1   4   3   7   2   7   4 970   0]\n",
            " [  1   0   0   0   0   6   0  42   1 950]]\n"
          ]
        },
        {
          "output_type": "display_data",
          "data": {
            "text/plain": [
              "<Figure size 432x288 with 2 Axes>"
            ],
            "image/png": "[encoded data removed]"
          },
          "metadata": {
            "needs_background": "light"
          }
        }
      ]
    },
    {
      "cell_type": "code",
      "source": [
        "# Label mapping\n",
        "labels = '''T-shirt/top\n",
        "Trouser\n",
        "Pullover\n",
        "Dress\n",
        "Coat\n",
        "Sandal\n",
        "Shirt\n",
        "Sneaker\n",
        "Bag\n",
        "Ankle boot'''.split(\"\\n\")"
      ],
      "metadata": {
        "id": "aRRzlZ6gx1Nz"
      },
      "execution_count": null,
      "outputs": []
    },
    {
      "cell_type": "code",
      "source": [
        "# Show some misclassified examples\n",
        "p_test = p_test.astype(np.uint8)\n",
        "misclassified_idx = np.where(p_test != y_test)[0]\n",
        "i = np.random.choice(misclassified_idx)\n",
        "plt.imshow(x_test[i].reshape(28, 28), cmap='gray')\n",
        "plt.title(\"True label: %s Predicted: %s\" % (labels[y_test[i]], labels[p_test[i]]));"
      ],
      "metadata": {
        "colab": {
          "base_uri": "https://localhost:8080/",
          "height": 281
        },
        "id": "M3TB4ISwx2Az",
        "outputId": "58db1220-cca3-4109-8229-1b5d1d340ea8"
      },
      "execution_count": null,
      "outputs": [
        {
          "output_type": "display_data",
          "data": {
            "text/plain": [
              "<Figure size 432x288 with 1 Axes>"
            ],
            "image/png": "[encoded data removed]"
          },
          "metadata": {
            "needs_background": "light"
          }
        }
      ]
    }
  ]
}