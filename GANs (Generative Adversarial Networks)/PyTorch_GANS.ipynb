{
  "nbformat": 4,
  "nbformat_minor": 0,
  "metadata": {
    "colab": {
      "provenance": [],
      "authorship_tag": "ABX9TyMR+n0z+vTSZrLkS6/q1zlZ",
      "include_colab_link": true
    },
    "kernelspec": {
      "name": "python3",
      "display_name": "Python 3"
    },
    "language_info": {
      "name": "python"
    },
    "accelerator": "GPU",
    "gpuClass": "standard",
    "widgets": {
      "application/vnd.jupyter.widget-state+json": {
        "a627761edc4a4cf88ea23bc5e3e4af51": {
          "model_module": "@jupyter-widgets/controls",
          "model_name": "HBoxModel",
          "model_module_version": "1.5.0",
          "state": {
            "_dom_classes": [],
            "_model_module": "@jupyter-widgets/controls",
            "_model_module_version": "1.5.0",
            "_model_name": "HBoxModel",
            "_view_count": null,
            "_view_module": "@jupyter-widgets/controls",
            "_view_module_version": "1.5.0",
            "_view_name": "HBoxView",
            "box_style": "",
            "children": [
              "IPY_MODEL_d97d3af9c0854296950b017897fc338a",
              "IPY_MODEL_7ffa1b053b8642e584961762899ee89f",
              "IPY_MODEL_c6a2f31f3fbd427b8fbfe4dcb41e6045"
            ],
            "layout": "IPY_MODEL_0e421064ff4b4b128e615cdcd164ea36"
          }
        },
        "d97d3af9c0854296950b017897fc338a": {
          "model_module": "@jupyter-widgets/controls",
          "model_name": "HTMLModel",
          "model_module_version": "1.5.0",
          "state": {
            "_dom_classes": [],
            "_model_module": "@jupyter-widgets/controls",
            "_model_module_version": "1.5.0",
            "_model_name": "HTMLModel",
            "_view_count": null,
            "_view_module": "@jupyter-widgets/controls",
            "_view_module_version": "1.5.0",
            "_view_name": "HTMLView",
            "description": "",
            "description_tooltip": null,
            "layout": "IPY_MODEL_5db283f6fa2245aeb395a98ca3843b11",
            "placeholder": "​",
            "style": "IPY_MODEL_1a37f2f92f774fb2a051e2c276e71fe0",
            "value": "100%"
          }
        },
        "7ffa1b053b8642e584961762899ee89f": {
          "model_module": "@jupyter-widgets/controls",
          "model_name": "FloatProgressModel",
          "model_module_version": "1.5.0",
          "state": {
            "_dom_classes": [],
            "_model_module": "@jupyter-widgets/controls",
            "_model_module_version": "1.5.0",
            "_model_name": "FloatProgressModel",
            "_view_count": null,
            "_view_module": "@jupyter-widgets/controls",
            "_view_module_version": "1.5.0",
            "_view_name": "ProgressView",
            "bar_style": "success",
            "description": "",
            "description_tooltip": null,
            "layout": "IPY_MODEL_799f0e6252d24bd28ab60dedb8b95ded",
            "max": 9912422,
            "min": 0,
            "orientation": "horizontal",
            "style": "IPY_MODEL_2a6b1767adcb40aa94e81b65bde3335e",
            "value": 9912422
          }
        },
        "c6a2f31f3fbd427b8fbfe4dcb41e6045": {
          "model_module": "@jupyter-widgets/controls",
          "model_name": "HTMLModel",
          "model_module_version": "1.5.0",
          "state": {
            "_dom_classes": [],
            "_model_module": "@jupyter-widgets/controls",
            "_model_module_version": "1.5.0",
            "_model_name": "HTMLModel",
            "_view_count": null,
            "_view_module": "@jupyter-widgets/controls",
            "_view_module_version": "1.5.0",
            "_view_name": "HTMLView",
            "description": "",
            "description_tooltip": null,
            "layout": "IPY_MODEL_38983d0b3be64fc9a48e462748f212b8",
            "placeholder": "​",
            "style": "IPY_MODEL_75f2f20e6e3c4d29926fbfbde60994e9",
            "value": " 9912422/9912422 [00:00&lt;00:00, 74604033.48it/s]"
          }
        },
        "0e421064ff4b4b128e615cdcd164ea36": {
          "model_module": "@jupyter-widgets/base",
          "model_name": "LayoutModel",
          "model_module_version": "1.2.0",
          "state": {
            "_model_module": "@jupyter-widgets/base",
            "_model_module_version": "1.2.0",
            "_model_name": "LayoutModel",
            "_view_count": null,
            "_view_module": "@jupyter-widgets/base",
            "_view_module_version": "1.2.0",
            "_view_name": "LayoutView",
            "align_content": null,
            "align_items": null,
            "align_self": null,
            "border": null,
            "bottom": null,
            "display": null,
            "flex": null,
            "flex_flow": null,
            "grid_area": null,
            "grid_auto_columns": null,
            "grid_auto_flow": null,
            "grid_auto_rows": null,
            "grid_column": null,
            "grid_gap": null,
            "grid_row": null,
            "grid_template_areas": null,
            "grid_template_columns": null,
            "grid_template_rows": null,
            "height": null,
            "justify_content": null,
            "justify_items": null,
            "left": null,
            "margin": null,
            "max_height": null,
            "max_width": null,
            "min_height": null,
            "min_width": null,
            "object_fit": null,
            "object_position": null,
            "order": null,
            "overflow": null,
            "overflow_x": null,
            "overflow_y": null,
            "padding": null,
            "right": null,
            "top": null,
            "visibility": null,
            "width": null
          }
        },
        "5db283f6fa2245aeb395a98ca3843b11": {
          "model_module": "@jupyter-widgets/base",
          "model_name": "LayoutModel",
          "model_module_version": "1.2.0",
          "state": {
            "_model_module": "@jupyter-widgets/base",
            "_model_module_version": "1.2.0",
            "_model_name": "LayoutModel",
            "_view_count": null,
            "_view_module": "@jupyter-widgets/base",
            "_view_module_version": "1.2.0",
            "_view_name": "LayoutView",
            "align_content": null,
            "align_items": null,
            "align_self": null,
            "border": null,
            "bottom": null,
            "display": null,
            "flex": null,
            "flex_flow": null,
            "grid_area": null,
            "grid_auto_columns": null,
            "grid_auto_flow": null,
            "grid_auto_rows": null,
            "grid_column": null,
            "grid_gap": null,
            "grid_row": null,
            "grid_template_areas": null,
            "grid_template_columns": null,
            "grid_template_rows": null,
            "height": null,
            "justify_content": null,
            "justify_items": null,
            "left": null,
            "margin": null,
            "max_height": null,
            "max_width": null,
            "min_height": null,
            "min_width": null,
            "object_fit": null,
            "object_position": null,
            "order": null,
            "overflow": null,
            "overflow_x": null,
            "overflow_y": null,
            "padding": null,
            "right": null,
            "top": null,
            "visibility": null,
            "width": null
          }
        },
        "1a37f2f92f774fb2a051e2c276e71fe0": {
          "model_module": "@jupyter-widgets/controls",
          "model_name": "DescriptionStyleModel",
          "model_module_version": "1.5.0",
          "state": {
            "_model_module": "@jupyter-widgets/controls",
            "_model_module_version": "1.5.0",
            "_model_name": "DescriptionStyleModel",
            "_view_count": null,
            "_view_module": "@jupyter-widgets/base",
            "_view_module_version": "1.2.0",
            "_view_name": "StyleView",
            "description_width": ""
          }
        },
        "799f0e6252d24bd28ab60dedb8b95ded": {
          "model_module": "@jupyter-widgets/base",
          "model_name": "LayoutModel",
          "model_module_version": "1.2.0",
          "state": {
            "_model_module": "@jupyter-widgets/base",
            "_model_module_version": "1.2.0",
            "_model_name": "LayoutModel",
            "_view_count": null,
            "_view_module": "@jupyter-widgets/base",
            "_view_module_version": "1.2.0",
            "_view_name": "LayoutView",
            "align_content": null,
            "align_items": null,
            "align_self": null,
            "border": null,
            "bottom": null,
            "display": null,
            "flex": null,
            "flex_flow": null,
            "grid_area": null,
            "grid_auto_columns": null,
            "grid_auto_flow": null,
            "grid_auto_rows": null,
            "grid_column": null,
            "grid_gap": null,
            "grid_row": null,
            "grid_template_areas": null,
            "grid_template_columns": null,
            "grid_template_rows": null,
            "height": null,
            "justify_content": null,
            "justify_items": null,
            "left": null,
            "margin": null,
            "max_height": null,
            "max_width": null,
            "min_height": null,
            "min_width": null,
            "object_fit": null,
            "object_position": null,
            "order": null,
            "overflow": null,
            "overflow_x": null,
            "overflow_y": null,
            "padding": null,
            "right": null,
            "top": null,
            "visibility": null,
            "width": null
          }
        },
        "2a6b1767adcb40aa94e81b65bde3335e": {
          "model_module": "@jupyter-widgets/controls",
          "model_name": "ProgressStyleModel",
          "model_module_version": "1.5.0",
          "state": {
            "_model_module": "@jupyter-widgets/controls",
            "_model_module_version": "1.5.0",
            "_model_name": "ProgressStyleModel",
            "_view_count": null,
            "_view_module": "@jupyter-widgets/base",
            "_view_module_version": "1.2.0",
            "_view_name": "StyleView",
            "bar_color": null,
            "description_width": ""
          }
        },
        "38983d0b3be64fc9a48e462748f212b8": {
          "model_module": "@jupyter-widgets/base",
          "model_name": "LayoutModel",
          "model_module_version": "1.2.0",
          "state": {
            "_model_module": "@jupyter-widgets/base",
            "_model_module_version": "1.2.0",
            "_model_name": "LayoutModel",
            "_view_count": null,
            "_view_module": "@jupyter-widgets/base",
            "_view_module_version": "1.2.0",
            "_view_name": "LayoutView",
            "align_content": null,
            "align_items": null,
            "align_self": null,
            "border": null,
            "bottom": null,
            "display": null,
            "flex": null,
            "flex_flow": null,
            "grid_area": null,
            "grid_auto_columns": null,
            "grid_auto_flow": null,
            "grid_auto_rows": null,
            "grid_column": null,
            "grid_gap": null,
            "grid_row": null,
            "grid_template_areas": null,
            "grid_template_columns": null,
            "grid_template_rows": null,
            "height": null,
            "justify_content": null,
            "justify_items": null,
            "left": null,
            "margin": null,
            "max_height": null,
            "max_width": null,
            "min_height": null,
            "min_width": null,
            "object_fit": null,
            "object_position": null,
            "order": null,
            "overflow": null,
            "overflow_x": null,
            "overflow_y": null,
            "padding": null,
            "right": null,
            "top": null,
            "visibility": null,
            "width": null
          }
        },
        "75f2f20e6e3c4d29926fbfbde60994e9": {
          "model_module": "@jupyter-widgets/controls",
          "model_name": "DescriptionStyleModel",
          "model_module_version": "1.5.0",
          "state": {
            "_model_module": "@jupyter-widgets/controls",
            "_model_module_version": "1.5.0",
            "_model_name": "DescriptionStyleModel",
            "_view_count": null,
            "_view_module": "@jupyter-widgets/base",
            "_view_module_version": "1.2.0",
            "_view_name": "StyleView",
            "description_width": ""
          }
        },
        "c27d48b91d56424b94e20eacce8f0458": {
          "model_module": "@jupyter-widgets/controls",
          "model_name": "HBoxModel",
          "model_module_version": "1.5.0",
          "state": {
            "_dom_classes": [],
            "_model_module": "@jupyter-widgets/controls",
            "_model_module_version": "1.5.0",
            "_model_name": "HBoxModel",
            "_view_count": null,
            "_view_module": "@jupyter-widgets/controls",
            "_view_module_version": "1.5.0",
            "_view_name": "HBoxView",
            "box_style": "",
            "children": [
              "IPY_MODEL_fc9b2fc16185410a9904a7de14e5ab6c",
              "IPY_MODEL_e25c5b134ea447c2bbf7f2c97cb46d33",
              "IPY_MODEL_3374242bae8d4d50a9e025d29092257f"
            ],
            "layout": "IPY_MODEL_7ead64a88c1941d194579487b03efe8b"
          }
        },
        "fc9b2fc16185410a9904a7de14e5ab6c": {
          "model_module": "@jupyter-widgets/controls",
          "model_name": "HTMLModel",
          "model_module_version": "1.5.0",
          "state": {
            "_dom_classes": [],
            "_model_module": "@jupyter-widgets/controls",
            "_model_module_version": "1.5.0",
            "_model_name": "HTMLModel",
            "_view_count": null,
            "_view_module": "@jupyter-widgets/controls",
            "_view_module_version": "1.5.0",
            "_view_name": "HTMLView",
            "description": "",
            "description_tooltip": null,
            "layout": "IPY_MODEL_f47bb91c458143369a14fcdc011f0748",
            "placeholder": "​",
            "style": "IPY_MODEL_7048e451ca344619b8607f5613db205d",
            "value": "100%"
          }
        },
        "e25c5b134ea447c2bbf7f2c97cb46d33": {
          "model_module": "@jupyter-widgets/controls",
          "model_name": "FloatProgressModel",
          "model_module_version": "1.5.0",
          "state": {
            "_dom_classes": [],
            "_model_module": "@jupyter-widgets/controls",
            "_model_module_version": "1.5.0",
            "_model_name": "FloatProgressModel",
            "_view_count": null,
            "_view_module": "@jupyter-widgets/controls",
            "_view_module_version": "1.5.0",
            "_view_name": "ProgressView",
            "bar_style": "success",
            "description": "",
            "description_tooltip": null,
            "layout": "IPY_MODEL_b719cb75b05c4ae9841166e9eb7dfb18",
            "max": 28881,
            "min": 0,
            "orientation": "horizontal",
            "style": "IPY_MODEL_58760f43e5c7430b96c2e3d9f8b13c3b",
            "value": 28881
          }
        },
        "3374242bae8d4d50a9e025d29092257f": {
          "model_module": "@jupyter-widgets/controls",
          "model_name": "HTMLModel",
          "model_module_version": "1.5.0",
          "state": {
            "_dom_classes": [],
            "_model_module": "@jupyter-widgets/controls",
            "_model_module_version": "1.5.0",
            "_model_name": "HTMLModel",
            "_view_count": null,
            "_view_module": "@jupyter-widgets/controls",
            "_view_module_version": "1.5.0",
            "_view_name": "HTMLView",
            "description": "",
            "description_tooltip": null,
            "layout": "IPY_MODEL_c73ca68591df48ce96654cbb9efdf2ef",
            "placeholder": "​",
            "style": "IPY_MODEL_b54161bea068466384deaeecb2d8a96c",
            "value": " 28881/28881 [00:00&lt;00:00, 929082.95it/s]"
          }
        },
        "7ead64a88c1941d194579487b03efe8b": {
          "model_module": "@jupyter-widgets/base",
          "model_name": "LayoutModel",
          "model_module_version": "1.2.0",
          "state": {
            "_model_module": "@jupyter-widgets/base",
            "_model_module_version": "1.2.0",
            "_model_name": "LayoutModel",
            "_view_count": null,
            "_view_module": "@jupyter-widgets/base",
            "_view_module_version": "1.2.0",
            "_view_name": "LayoutView",
            "align_content": null,
            "align_items": null,
            "align_self": null,
            "border": null,
            "bottom": null,
            "display": null,
            "flex": null,
            "flex_flow": null,
            "grid_area": null,
            "grid_auto_columns": null,
            "grid_auto_flow": null,
            "grid_auto_rows": null,
            "grid_column": null,
            "grid_gap": null,
            "grid_row": null,
            "grid_template_areas": null,
            "grid_template_columns": null,
            "grid_template_rows": null,
            "height": null,
            "justify_content": null,
            "justify_items": null,
            "left": null,
            "margin": null,
            "max_height": null,
            "max_width": null,
            "min_height": null,
            "min_width": null,
            "object_fit": null,
            "object_position": null,
            "order": null,
            "overflow": null,
            "overflow_x": null,
            "overflow_y": null,
            "padding": null,
            "right": null,
            "top": null,
            "visibility": null,
            "width": null
          }
        },
        "f47bb91c458143369a14fcdc011f0748": {
          "model_module": "@jupyter-widgets/base",
          "model_name": "LayoutModel",
          "model_module_version": "1.2.0",
          "state": {
            "_model_module": "@jupyter-widgets/base",
            "_model_module_version": "1.2.0",
            "_model_name": "LayoutModel",
            "_view_count": null,
            "_view_module": "@jupyter-widgets/base",
            "_view_module_version": "1.2.0",
            "_view_name": "LayoutView",
            "align_content": null,
            "align_items": null,
            "align_self": null,
            "border": null,
            "bottom": null,
            "display": null,
            "flex": null,
            "flex_flow": null,
            "grid_area": null,
            "grid_auto_columns": null,
            "grid_auto_flow": null,
            "grid_auto_rows": null,
            "grid_column": null,
            "grid_gap": null,
            "grid_row": null,
            "grid_template_areas": null,
            "grid_template_columns": null,
            "grid_template_rows": null,
            "height": null,
            "justify_content": null,
            "justify_items": null,
            "left": null,
            "margin": null,
            "max_height": null,
            "max_width": null,
            "min_height": null,
            "min_width": null,
            "object_fit": null,
            "object_position": null,
            "order": null,
            "overflow": null,
            "overflow_x": null,
            "overflow_y": null,
            "padding": null,
            "right": null,
            "top": null,
            "visibility": null,
            "width": null
          }
        },
        "7048e451ca344619b8607f5613db205d": {
          "model_module": "@jupyter-widgets/controls",
          "model_name": "DescriptionStyleModel",
          "model_module_version": "1.5.0",
          "state": {
            "_model_module": "@jupyter-widgets/controls",
            "_model_module_version": "1.5.0",
            "_model_name": "DescriptionStyleModel",
            "_view_count": null,
            "_view_module": "@jupyter-widgets/base",
            "_view_module_version": "1.2.0",
            "_view_name": "StyleView",
            "description_width": ""
          }
        },
        "b719cb75b05c4ae9841166e9eb7dfb18": {
          "model_module": "@jupyter-widgets/base",
          "model_name": "LayoutModel",
          "model_module_version": "1.2.0",
          "state": {
            "_model_module": "@jupyter-widgets/base",
            "_model_module_version": "1.2.0",
            "_model_name": "LayoutModel",
            "_view_count": null,
            "_view_module": "@jupyter-widgets/base",
            "_view_module_version": "1.2.0",
            "_view_name": "LayoutView",
            "align_content": null,
            "align_items": null,
            "align_self": null,
            "border": null,
            "bottom": null,
            "display": null,
            "flex": null,
            "flex_flow": null,
            "grid_area": null,
            "grid_auto_columns": null,
            "grid_auto_flow": null,
            "grid_auto_rows": null,
            "grid_column": null,
            "grid_gap": null,
            "grid_row": null,
            "grid_template_areas": null,
            "grid_template_columns": null,
            "grid_template_rows": null,
            "height": null,
            "justify_content": null,
            "justify_items": null,
            "left": null,
            "margin": null,
            "max_height": null,
            "max_width": null,
            "min_height": null,
            "min_width": null,
            "object_fit": null,
            "object_position": null,
            "order": null,
            "overflow": null,
            "overflow_x": null,
            "overflow_y": null,
            "padding": null,
            "right": null,
            "top": null,
            "visibility": null,
            "width": null
          }
        },
        "58760f43e5c7430b96c2e3d9f8b13c3b": {
          "model_module": "@jupyter-widgets/controls",
          "model_name": "ProgressStyleModel",
          "model_module_version": "1.5.0",
          "state": {
            "_model_module": "@jupyter-widgets/controls",
            "_model_module_version": "1.5.0",
            "_model_name": "ProgressStyleModel",
            "_view_count": null,
            "_view_module": "@jupyter-widgets/base",
            "_view_module_version": "1.2.0",
            "_view_name": "StyleView",
            "bar_color": null,
            "description_width": ""
          }
        },
        "c73ca68591df48ce96654cbb9efdf2ef": {
          "model_module": "@jupyter-widgets/base",
          "model_name": "LayoutModel",
          "model_module_version": "1.2.0",
          "state": {
            "_model_module": "@jupyter-widgets/base",
            "_model_module_version": "1.2.0",
            "_model_name": "LayoutModel",
            "_view_count": null,
            "_view_module": "@jupyter-widgets/base",
            "_view_module_version": "1.2.0",
            "_view_name": "LayoutView",
            "align_content": null,
            "align_items": null,
            "align_self": null,
            "border": null,
            "bottom": null,
            "display": null,
            "flex": null,
            "flex_flow": null,
            "grid_area": null,
            "grid_auto_columns": null,
            "grid_auto_flow": null,
            "grid_auto_rows": null,
            "grid_column": null,
            "grid_gap": null,
            "grid_row": null,
            "grid_template_areas": null,
            "grid_template_columns": null,
            "grid_template_rows": null,
            "height": null,
            "justify_content": null,
            "justify_items": null,
            "left": null,
            "margin": null,
            "max_height": null,
            "max_width": null,
            "min_height": null,
            "min_width": null,
            "object_fit": null,
            "object_position": null,
            "order": null,
            "overflow": null,
            "overflow_x": null,
            "overflow_y": null,
            "padding": null,
            "right": null,
            "top": null,
            "visibility": null,
            "width": null
          }
        },
        "b54161bea068466384deaeecb2d8a96c": {
          "model_module": "@jupyter-widgets/controls",
          "model_name": "DescriptionStyleModel",
          "model_module_version": "1.5.0",
          "state": {
            "_model_module": "@jupyter-widgets/controls",
            "_model_module_version": "1.5.0",
            "_model_name": "DescriptionStyleModel",
            "_view_count": null,
            "_view_module": "@jupyter-widgets/base",
            "_view_module_version": "1.2.0",
            "_view_name": "StyleView",
            "description_width": ""
          }
        },
        "b73adcc05ece41b68e31b6ca73e6058b": {
          "model_module": "@jupyter-widgets/controls",
          "model_name": "HBoxModel",
          "model_module_version": "1.5.0",
          "state": {
            "_dom_classes": [],
            "_model_module": "@jupyter-widgets/controls",
            "_model_module_version": "1.5.0",
            "_model_name": "HBoxModel",
            "_view_count": null,
            "_view_module": "@jupyter-widgets/controls",
            "_view_module_version": "1.5.0",
            "_view_name": "HBoxView",
            "box_style": "",
            "children": [
              "IPY_MODEL_c42eb129a8b04905b2574b26587140fc",
              "IPY_MODEL_39563f924f2b4ed19632bc1c7e4a36ae",
              "IPY_MODEL_d7f1699a1362448e92fa6c9c86015829"
            ],
            "layout": "IPY_MODEL_48cefb5698f04ddbb078b407440a1bc0"
          }
        },
        "c42eb129a8b04905b2574b26587140fc": {
          "model_module": "@jupyter-widgets/controls",
          "model_name": "HTMLModel",
          "model_module_version": "1.5.0",
          "state": {
            "_dom_classes": [],
            "_model_module": "@jupyter-widgets/controls",
            "_model_module_version": "1.5.0",
            "_model_name": "HTMLModel",
            "_view_count": null,
            "_view_module": "@jupyter-widgets/controls",
            "_view_module_version": "1.5.0",
            "_view_name": "HTMLView",
            "description": "",
            "description_tooltip": null,
            "layout": "IPY_MODEL_d4a4ca18c0b443809e8b421af98d1561",
            "placeholder": "​",
            "style": "IPY_MODEL_a94886cb38084e968923a804918a8771",
            "value": "100%"
          }
        },
        "39563f924f2b4ed19632bc1c7e4a36ae": {
          "model_module": "@jupyter-widgets/controls",
          "model_name": "FloatProgressModel",
          "model_module_version": "1.5.0",
          "state": {
            "_dom_classes": [],
            "_model_module": "@jupyter-widgets/controls",
            "_model_module_version": "1.5.0",
            "_model_name": "FloatProgressModel",
            "_view_count": null,
            "_view_module": "@jupyter-widgets/controls",
            "_view_module_version": "1.5.0",
            "_view_name": "ProgressView",
            "bar_style": "success",
            "description": "",
            "description_tooltip": null,
            "layout": "IPY_MODEL_29a2fdcb39be445aaf1db98507c7132e",
            "max": 1648877,
            "min": 0,
            "orientation": "horizontal",
            "style": "IPY_MODEL_eae1bfb681e64077be9343a6990a5c8c",
            "value": 1648877
          }
        },
        "d7f1699a1362448e92fa6c9c86015829": {
          "model_module": "@jupyter-widgets/controls",
          "model_name": "HTMLModel",
          "model_module_version": "1.5.0",
          "state": {
            "_dom_classes": [],
            "_model_module": "@jupyter-widgets/controls",
            "_model_module_version": "1.5.0",
            "_model_name": "HTMLModel",
            "_view_count": null,
            "_view_module": "@jupyter-widgets/controls",
            "_view_module_version": "1.5.0",
            "_view_name": "HTMLView",
            "description": "",
            "description_tooltip": null,
            "layout": "IPY_MODEL_e7bf9c9728fe402cadc879636b26ed3b",
            "placeholder": "​",
            "style": "IPY_MODEL_596c20e83ec242c9a21ee0cc3186b3b4",
            "value": " 1648877/1648877 [00:00&lt;00:00, 29666149.33it/s]"
          }
        },
        "48cefb5698f04ddbb078b407440a1bc0": {
          "model_module": "@jupyter-widgets/base",
          "model_name": "LayoutModel",
          "model_module_version": "1.2.0",
          "state": {
            "_model_module": "@jupyter-widgets/base",
            "_model_module_version": "1.2.0",
            "_model_name": "LayoutModel",
            "_view_count": null,
            "_view_module": "@jupyter-widgets/base",
            "_view_module_version": "1.2.0",
            "_view_name": "LayoutView",
            "align_content": null,
            "align_items": null,
            "align_self": null,
            "border": null,
            "bottom": null,
            "display": null,
            "flex": null,
            "flex_flow": null,
            "grid_area": null,
            "grid_auto_columns": null,
            "grid_auto_flow": null,
            "grid_auto_rows": null,
            "grid_column": null,
            "grid_gap": null,
            "grid_row": null,
            "grid_template_areas": null,
            "grid_template_columns": null,
            "grid_template_rows": null,
            "height": null,
            "justify_content": null,
            "justify_items": null,
            "left": null,
            "margin": null,
            "max_height": null,
            "max_width": null,
            "min_height": null,
            "min_width": null,
            "object_fit": null,
            "object_position": null,
            "order": null,
            "overflow": null,
            "overflow_x": null,
            "overflow_y": null,
            "padding": null,
            "right": null,
            "top": null,
            "visibility": null,
            "width": null
          }
        },
        "d4a4ca18c0b443809e8b421af98d1561": {
          "model_module": "@jupyter-widgets/base",
          "model_name": "LayoutModel",
          "model_module_version": "1.2.0",
          "state": {
            "_model_module": "@jupyter-widgets/base",
            "_model_module_version": "1.2.0",
            "_model_name": "LayoutModel",
            "_view_count": null,
            "_view_module": "@jupyter-widgets/base",
            "_view_module_version": "1.2.0",
            "_view_name": "LayoutView",
            "align_content": null,
            "align_items": null,
            "align_self": null,
            "border": null,
            "bottom": null,
            "display": null,
            "flex": null,
            "flex_flow": null,
            "grid_area": null,
            "grid_auto_columns": null,
            "grid_auto_flow": null,
            "grid_auto_rows": null,
            "grid_column": null,
            "grid_gap": null,
            "grid_row": null,
            "grid_template_areas": null,
            "grid_template_columns": null,
            "grid_template_rows": null,
            "height": null,
            "justify_content": null,
            "justify_items": null,
            "left": null,
            "margin": null,
            "max_height": null,
            "max_width": null,
            "min_height": null,
            "min_width": null,
            "object_fit": null,
            "object_position": null,
            "order": null,
            "overflow": null,
            "overflow_x": null,
            "overflow_y": null,
            "padding": null,
            "right": null,
            "top": null,
            "visibility": null,
            "width": null
          }
        },
        "a94886cb38084e968923a804918a8771": {
          "model_module": "@jupyter-widgets/controls",
          "model_name": "DescriptionStyleModel",
          "model_module_version": "1.5.0",
          "state": {
            "_model_module": "@jupyter-widgets/controls",
            "_model_module_version": "1.5.0",
            "_model_name": "DescriptionStyleModel",
            "_view_count": null,
            "_view_module": "@jupyter-widgets/base",
            "_view_module_version": "1.2.0",
            "_view_name": "StyleView",
            "description_width": ""
          }
        },
        "29a2fdcb39be445aaf1db98507c7132e": {
          "model_module": "@jupyter-widgets/base",
          "model_name": "LayoutModel",
          "model_module_version": "1.2.0",
          "state": {
            "_model_module": "@jupyter-widgets/base",
            "_model_module_version": "1.2.0",
            "_model_name": "LayoutModel",
            "_view_count": null,
            "_view_module": "@jupyter-widgets/base",
            "_view_module_version": "1.2.0",
            "_view_name": "LayoutView",
            "align_content": null,
            "align_items": null,
            "align_self": null,
            "border": null,
            "bottom": null,
            "display": null,
            "flex": null,
            "flex_flow": null,
            "grid_area": null,
            "grid_auto_columns": null,
            "grid_auto_flow": null,
            "grid_auto_rows": null,
            "grid_column": null,
            "grid_gap": null,
            "grid_row": null,
            "grid_template_areas": null,
            "grid_template_columns": null,
            "grid_template_rows": null,
            "height": null,
            "justify_content": null,
            "justify_items": null,
            "left": null,
            "margin": null,
            "max_height": null,
            "max_width": null,
            "min_height": null,
            "min_width": null,
            "object_fit": null,
            "object_position": null,
            "order": null,
            "overflow": null,
            "overflow_x": null,
            "overflow_y": null,
            "padding": null,
            "right": null,
            "top": null,
            "visibility": null,
            "width": null
          }
        },
        "eae1bfb681e64077be9343a6990a5c8c": {
          "model_module": "@jupyter-widgets/controls",
          "model_name": "ProgressStyleModel",
          "model_module_version": "1.5.0",
          "state": {
            "_model_module": "@jupyter-widgets/controls",
            "_model_module_version": "1.5.0",
            "_model_name": "ProgressStyleModel",
            "_view_count": null,
            "_view_module": "@jupyter-widgets/base",
            "_view_module_version": "1.2.0",
            "_view_name": "StyleView",
            "bar_color": null,
            "description_width": ""
          }
        },
        "e7bf9c9728fe402cadc879636b26ed3b": {
          "model_module": "@jupyter-widgets/base",
          "model_name": "LayoutModel",
          "model_module_version": "1.2.0",
          "state": {
            "_model_module": "@jupyter-widgets/base",
            "_model_module_version": "1.2.0",
            "_model_name": "LayoutModel",
            "_view_count": null,
            "_view_module": "@jupyter-widgets/base",
            "_view_module_version": "1.2.0",
            "_view_name": "LayoutView",
            "align_content": null,
            "align_items": null,
            "align_self": null,
            "border": null,
            "bottom": null,
            "display": null,
            "flex": null,
            "flex_flow": null,
            "grid_area": null,
            "grid_auto_columns": null,
            "grid_auto_flow": null,
            "grid_auto_rows": null,
            "grid_column": null,
            "grid_gap": null,
            "grid_row": null,
            "grid_template_areas": null,
            "grid_template_columns": null,
            "grid_template_rows": null,
            "height": null,
            "justify_content": null,
            "justify_items": null,
            "left": null,
            "margin": null,
            "max_height": null,
            "max_width": null,
            "min_height": null,
            "min_width": null,
            "object_fit": null,
            "object_position": null,
            "order": null,
            "overflow": null,
            "overflow_x": null,
            "overflow_y": null,
            "padding": null,
            "right": null,
            "top": null,
            "visibility": null,
            "width": null
          }
        },
        "596c20e83ec242c9a21ee0cc3186b3b4": {
          "model_module": "@jupyter-widgets/controls",
          "model_name": "DescriptionStyleModel",
          "model_module_version": "1.5.0",
          "state": {
            "_model_module": "@jupyter-widgets/controls",
            "_model_module_version": "1.5.0",
            "_model_name": "DescriptionStyleModel",
            "_view_count": null,
            "_view_module": "@jupyter-widgets/base",
            "_view_module_version": "1.2.0",
            "_view_name": "StyleView",
            "description_width": ""
          }
        },
        "e6f4fb8730d146c29b1df9e7d01e1ccb": {
          "model_module": "@jupyter-widgets/controls",
          "model_name": "HBoxModel",
          "model_module_version": "1.5.0",
          "state": {
            "_dom_classes": [],
            "_model_module": "@jupyter-widgets/controls",
            "_model_module_version": "1.5.0",
            "_model_name": "HBoxModel",
            "_view_count": null,
            "_view_module": "@jupyter-widgets/controls",
            "_view_module_version": "1.5.0",
            "_view_name": "HBoxView",
            "box_style": "",
            "children": [
              "IPY_MODEL_aab12b38e55b42d3a6d64d6fc9c3f099",
              "IPY_MODEL_3fa60962473b4cfd8fe1597215a98989",
              "IPY_MODEL_05d4d796a86b4c6d8db9d430e38a14f5"
            ],
            "layout": "IPY_MODEL_d9666ac14cba414cae9987278e74a074"
          }
        },
        "aab12b38e55b42d3a6d64d6fc9c3f099": {
          "model_module": "@jupyter-widgets/controls",
          "model_name": "HTMLModel",
          "model_module_version": "1.5.0",
          "state": {
            "_dom_classes": [],
            "_model_module": "@jupyter-widgets/controls",
            "_model_module_version": "1.5.0",
            "_model_name": "HTMLModel",
            "_view_count": null,
            "_view_module": "@jupyter-widgets/controls",
            "_view_module_version": "1.5.0",
            "_view_name": "HTMLView",
            "description": "",
            "description_tooltip": null,
            "layout": "IPY_MODEL_849339ee9fd94dd2acdef5c70f0ab7b6",
            "placeholder": "​",
            "style": "IPY_MODEL_398c8fe5e8df4ee8bbe804d5b895dd48",
            "value": "100%"
          }
        },
        "3fa60962473b4cfd8fe1597215a98989": {
          "model_module": "@jupyter-widgets/controls",
          "model_name": "FloatProgressModel",
          "model_module_version": "1.5.0",
          "state": {
            "_dom_classes": [],
            "_model_module": "@jupyter-widgets/controls",
            "_model_module_version": "1.5.0",
            "_model_name": "FloatProgressModel",
            "_view_count": null,
            "_view_module": "@jupyter-widgets/controls",
            "_view_module_version": "1.5.0",
            "_view_name": "ProgressView",
            "bar_style": "success",
            "description": "",
            "description_tooltip": null,
            "layout": "IPY_MODEL_bc9da417b3cb4a9babc375b56195e9b4",
            "max": 4542,
            "min": 0,
            "orientation": "horizontal",
            "style": "IPY_MODEL_af9ff3deb0154634b152fb128615a244",
            "value": 4542
          }
        },
        "05d4d796a86b4c6d8db9d430e38a14f5": {
          "model_module": "@jupyter-widgets/controls",
          "model_name": "HTMLModel",
          "model_module_version": "1.5.0",
          "state": {
            "_dom_classes": [],
            "_model_module": "@jupyter-widgets/controls",
            "_model_module_version": "1.5.0",
            "_model_name": "HTMLModel",
            "_view_count": null,
            "_view_module": "@jupyter-widgets/controls",
            "_view_module_version": "1.5.0",
            "_view_name": "HTMLView",
            "description": "",
            "description_tooltip": null,
            "layout": "IPY_MODEL_695f582411dd433ca5967ac3a4cf47dd",
            "placeholder": "​",
            "style": "IPY_MODEL_faab113f20ff41cd87ff4938ace1c54f",
            "value": " 4542/4542 [00:00&lt;00:00, 165577.58it/s]"
          }
        },
        "d9666ac14cba414cae9987278e74a074": {
          "model_module": "@jupyter-widgets/base",
          "model_name": "LayoutModel",
          "model_module_version": "1.2.0",
          "state": {
            "_model_module": "@jupyter-widgets/base",
            "_model_module_version": "1.2.0",
            "_model_name": "LayoutModel",
            "_view_count": null,
            "_view_module": "@jupyter-widgets/base",
            "_view_module_version": "1.2.0",
            "_view_name": "LayoutView",
            "align_content": null,
            "align_items": null,
            "align_self": null,
            "border": null,
            "bottom": null,
            "display": null,
            "flex": null,
            "flex_flow": null,
            "grid_area": null,
            "grid_auto_columns": null,
            "grid_auto_flow": null,
            "grid_auto_rows": null,
            "grid_column": null,
            "grid_gap": null,
            "grid_row": null,
            "grid_template_areas": null,
            "grid_template_columns": null,
            "grid_template_rows": null,
            "height": null,
            "justify_content": null,
            "justify_items": null,
            "left": null,
            "margin": null,
            "max_height": null,
            "max_width": null,
            "min_height": null,
            "min_width": null,
            "object_fit": null,
            "object_position": null,
            "order": null,
            "overflow": null,
            "overflow_x": null,
            "overflow_y": null,
            "padding": null,
            "right": null,
            "top": null,
            "visibility": null,
            "width": null
          }
        },
        "849339ee9fd94dd2acdef5c70f0ab7b6": {
          "model_module": "@jupyter-widgets/base",
          "model_name": "LayoutModel",
          "model_module_version": "1.2.0",
          "state": {
            "_model_module": "@jupyter-widgets/base",
            "_model_module_version": "1.2.0",
            "_model_name": "LayoutModel",
            "_view_count": null,
            "_view_module": "@jupyter-widgets/base",
            "_view_module_version": "1.2.0",
            "_view_name": "LayoutView",
            "align_content": null,
            "align_items": null,
            "align_self": null,
            "border": null,
            "bottom": null,
            "display": null,
            "flex": null,
            "flex_flow": null,
            "grid_area": null,
            "grid_auto_columns": null,
            "grid_auto_flow": null,
            "grid_auto_rows": null,
            "grid_column": null,
            "grid_gap": null,
            "grid_row": null,
            "grid_template_areas": null,
            "grid_template_columns": null,
            "grid_template_rows": null,
            "height": null,
            "justify_content": null,
            "justify_items": null,
            "left": null,
            "margin": null,
            "max_height": null,
            "max_width": null,
            "min_height": null,
            "min_width": null,
            "object_fit": null,
            "object_position": null,
            "order": null,
            "overflow": null,
            "overflow_x": null,
            "overflow_y": null,
            "padding": null,
            "right": null,
            "top": null,
            "visibility": null,
            "width": null
          }
        },
        "398c8fe5e8df4ee8bbe804d5b895dd48": {
          "model_module": "@jupyter-widgets/controls",
          "model_name": "DescriptionStyleModel",
          "model_module_version": "1.5.0",
          "state": {
            "_model_module": "@jupyter-widgets/controls",
            "_model_module_version": "1.5.0",
            "_model_name": "DescriptionStyleModel",
            "_view_count": null,
            "_view_module": "@jupyter-widgets/base",
            "_view_module_version": "1.2.0",
            "_view_name": "StyleView",
            "description_width": ""
          }
        },
        "bc9da417b3cb4a9babc375b56195e9b4": {
          "model_module": "@jupyter-widgets/base",
          "model_name": "LayoutModel",
          "model_module_version": "1.2.0",
          "state": {
            "_model_module": "@jupyter-widgets/base",
            "_model_module_version": "1.2.0",
            "_model_name": "LayoutModel",
            "_view_count": null,
            "_view_module": "@jupyter-widgets/base",
            "_view_module_version": "1.2.0",
            "_view_name": "LayoutView",
            "align_content": null,
            "align_items": null,
            "align_self": null,
            "border": null,
            "bottom": null,
            "display": null,
            "flex": null,
            "flex_flow": null,
            "grid_area": null,
            "grid_auto_columns": null,
            "grid_auto_flow": null,
            "grid_auto_rows": null,
            "grid_column": null,
            "grid_gap": null,
            "grid_row": null,
            "grid_template_areas": null,
            "grid_template_columns": null,
            "grid_template_rows": null,
            "height": null,
            "justify_content": null,
            "justify_items": null,
            "left": null,
            "margin": null,
            "max_height": null,
            "max_width": null,
            "min_height": null,
            "min_width": null,
            "object_fit": null,
            "object_position": null,
            "order": null,
            "overflow": null,
            "overflow_x": null,
            "overflow_y": null,
            "padding": null,
            "right": null,
            "top": null,
            "visibility": null,
            "width": null
          }
        },
        "af9ff3deb0154634b152fb128615a244": {
          "model_module": "@jupyter-widgets/controls",
          "model_name": "ProgressStyleModel",
          "model_module_version": "1.5.0",
          "state": {
            "_model_module": "@jupyter-widgets/controls",
            "_model_module_version": "1.5.0",
            "_model_name": "ProgressStyleModel",
            "_view_count": null,
            "_view_module": "@jupyter-widgets/base",
            "_view_module_version": "1.2.0",
            "_view_name": "StyleView",
            "bar_color": null,
            "description_width": ""
          }
        },
        "695f582411dd433ca5967ac3a4cf47dd": {
          "model_module": "@jupyter-widgets/base",
          "model_name": "LayoutModel",
          "model_module_version": "1.2.0",
          "state": {
            "_model_module": "@jupyter-widgets/base",
            "_model_module_version": "1.2.0",
            "_model_name": "LayoutModel",
            "_view_count": null,
            "_view_module": "@jupyter-widgets/base",
            "_view_module_version": "1.2.0",
            "_view_name": "LayoutView",
            "align_content": null,
            "align_items": null,
            "align_self": null,
            "border": null,
            "bottom": null,
            "display": null,
            "flex": null,
            "flex_flow": null,
            "grid_area": null,
            "grid_auto_columns": null,
            "grid_auto_flow": null,
            "grid_auto_rows": null,
            "grid_column": null,
            "grid_gap": null,
            "grid_row": null,
            "grid_template_areas": null,
            "grid_template_columns": null,
            "grid_template_rows": null,
            "height": null,
            "justify_content": null,
            "justify_items": null,
            "left": null,
            "margin": null,
            "max_height": null,
            "max_width": null,
            "min_height": null,
            "min_width": null,
            "object_fit": null,
            "object_position": null,
            "order": null,
            "overflow": null,
            "overflow_x": null,
            "overflow_y": null,
            "padding": null,
            "right": null,
            "top": null,
            "visibility": null,
            "width": null
          }
        },
        "faab113f20ff41cd87ff4938ace1c54f": {
          "model_module": "@jupyter-widgets/controls",
          "model_name": "DescriptionStyleModel",
          "model_module_version": "1.5.0",
          "state": {
            "_model_module": "@jupyter-widgets/controls",
            "_model_module_version": "1.5.0",
            "_model_name": "DescriptionStyleModel",
            "_view_count": null,
            "_view_module": "@jupyter-widgets/base",
            "_view_module_version": "1.2.0",
            "_view_name": "StyleView",
            "description_width": ""
          }
        }
      }
    }
  },
  "cells": [
    {
      "cell_type": "markdown",
      "metadata": {
        "id": "view-in-github",
        "colab_type": "text"
      },
      "source": [
        "<a href=\"https://colab.research.google.com/github/gavincapriola/PyTorch-Deep-Learning-and-Artificial-Intelligence/blob/main/GANs%20(Generative%20Adversarial%20Networks)/PyTorch_GANS.ipynb\" target=\"_parent\"><img src=\"https://colab.research.google.com/assets/colab-badge.svg\" alt=\"Open In Colab\"/></a>"
      ]
    },
    {
      "cell_type": "code",
      "execution_count": 1,
      "metadata": {
        "id": "uB3at1dz4uWc"
      },
      "outputs": [],
      "source": [
        "import torch\n",
        "import torch.nn as nn\n",
        "import torchvision\n",
        "import torchvision.transforms as transforms\n",
        "from torchvision.utils import save_image\n",
        "import numpy as np\n",
        "import matplotlib.pyplot as plt\n",
        "import datetime\n",
        "import os"
      ]
    },
    {
      "cell_type": "code",
      "source": [
        "transform = transforms.Compose([\n",
        "    transforms.ToTensor(),\n",
        "    transforms.Normalize(mean=(0.5,),\n",
        "                         std=(0.5,))])"
      ],
      "metadata": {
        "id": "b_0AIqhu5Jmo"
      },
      "execution_count": 2,
      "outputs": []
    },
    {
      "cell_type": "code",
      "source": [
        "train_dataset = torchvision.datasets.MNIST(root='.',\n",
        "                                           train=True,\n",
        "                                           transform=transform,\n",
        "                                           download=True)"
      ],
      "metadata": {
        "colab": {
          "base_uri": "https://localhost:8080/",
          "height": 423,
          "referenced_widgets": [
            "a627761edc4a4cf88ea23bc5e3e4af51",
            "d97d3af9c0854296950b017897fc338a",
            "7ffa1b053b8642e584961762899ee89f",
            "c6a2f31f3fbd427b8fbfe4dcb41e6045",
            "0e421064ff4b4b128e615cdcd164ea36",
            "5db283f6fa2245aeb395a98ca3843b11",
            "1a37f2f92f774fb2a051e2c276e71fe0",
            "799f0e6252d24bd28ab60dedb8b95ded",
            "2a6b1767adcb40aa94e81b65bde3335e",
            "38983d0b3be64fc9a48e462748f212b8",
            "75f2f20e6e3c4d29926fbfbde60994e9",
            "c27d48b91d56424b94e20eacce8f0458",
            "fc9b2fc16185410a9904a7de14e5ab6c",
            "e25c5b134ea447c2bbf7f2c97cb46d33",
            "3374242bae8d4d50a9e025d29092257f",
            "7ead64a88c1941d194579487b03efe8b",
            "f47bb91c458143369a14fcdc011f0748",
            "7048e451ca344619b8607f5613db205d",
            "b719cb75b05c4ae9841166e9eb7dfb18",
            "58760f43e5c7430b96c2e3d9f8b13c3b",
            "c73ca68591df48ce96654cbb9efdf2ef",
            "b54161bea068466384deaeecb2d8a96c",
            "b73adcc05ece41b68e31b6ca73e6058b",
            "c42eb129a8b04905b2574b26587140fc",
            "39563f924f2b4ed19632bc1c7e4a36ae",
            "d7f1699a1362448e92fa6c9c86015829",
            "48cefb5698f04ddbb078b407440a1bc0",
            "d4a4ca18c0b443809e8b421af98d1561",
            "a94886cb38084e968923a804918a8771",
            "29a2fdcb39be445aaf1db98507c7132e",
            "eae1bfb681e64077be9343a6990a5c8c",
            "e7bf9c9728fe402cadc879636b26ed3b",
            "596c20e83ec242c9a21ee0cc3186b3b4",
            "e6f4fb8730d146c29b1df9e7d01e1ccb",
            "aab12b38e55b42d3a6d64d6fc9c3f099",
            "3fa60962473b4cfd8fe1597215a98989",
            "05d4d796a86b4c6d8db9d430e38a14f5",
            "d9666ac14cba414cae9987278e74a074",
            "849339ee9fd94dd2acdef5c70f0ab7b6",
            "398c8fe5e8df4ee8bbe804d5b895dd48",
            "bc9da417b3cb4a9babc375b56195e9b4",
            "af9ff3deb0154634b152fb128615a244",
            "695f582411dd433ca5967ac3a4cf47dd",
            "faab113f20ff41cd87ff4938ace1c54f"
          ]
        },
        "id": "Qdrf832P5etE",
        "outputId": "e6da7a1e-7ad0-4fbb-f46c-d20f142d5d28"
      },
      "execution_count": 3,
      "outputs": [
        {
          "output_type": "stream",
          "name": "stdout",
          "text": [
            "Downloading http://yann.lecun.com/exdb/mnist/train-images-idx3-ubyte.gz\n",
            "Downloading http://yann.lecun.com/exdb/mnist/train-images-idx3-ubyte.gz to ./MNIST/raw/train-images-idx3-ubyte.gz\n"
          ]
        },
        {
          "output_type": "display_data",
          "data": {
            "text/plain": [
              "  0%|          | 0/9912422 [00:00<?, ?it/s]"
            ],
            "application/vnd.jupyter.widget-view+json": {
              "version_major": 2,
              "version_minor": 0,
              "model_id": "a627761edc4a4cf88ea23bc5e3e4af51"
            }
          },
          "metadata": {}
        },
        {
          "output_type": "stream",
          "name": "stdout",
          "text": [
            "Extracting ./MNIST/raw/train-images-idx3-ubyte.gz to ./MNIST/raw\n",
            "\n",
            "Downloading http://yann.lecun.com/exdb/mnist/train-labels-idx1-ubyte.gz\n",
            "Downloading http://yann.lecun.com/exdb/mnist/train-labels-idx1-ubyte.gz to ./MNIST/raw/train-labels-idx1-ubyte.gz\n"
          ]
        },
        {
          "output_type": "display_data",
          "data": {
            "text/plain": [
              "  0%|          | 0/28881 [00:00<?, ?it/s]"
            ],
            "application/vnd.jupyter.widget-view+json": {
              "version_major": 2,
              "version_minor": 0,
              "model_id": "c27d48b91d56424b94e20eacce8f0458"
            }
          },
          "metadata": {}
        },
        {
          "output_type": "stream",
          "name": "stdout",
          "text": [
            "Extracting ./MNIST/raw/train-labels-idx1-ubyte.gz to ./MNIST/raw\n",
            "\n",
            "Downloading http://yann.lecun.com/exdb/mnist/t10k-images-idx3-ubyte.gz\n",
            "Downloading http://yann.lecun.com/exdb/mnist/t10k-images-idx3-ubyte.gz to ./MNIST/raw/t10k-images-idx3-ubyte.gz\n"
          ]
        },
        {
          "output_type": "display_data",
          "data": {
            "text/plain": [
              "  0%|          | 0/1648877 [00:00<?, ?it/s]"
            ],
            "application/vnd.jupyter.widget-view+json": {
              "version_major": 2,
              "version_minor": 0,
              "model_id": "b73adcc05ece41b68e31b6ca73e6058b"
            }
          },
          "metadata": {}
        },
        {
          "output_type": "stream",
          "name": "stdout",
          "text": [
            "Extracting ./MNIST/raw/t10k-images-idx3-ubyte.gz to ./MNIST/raw\n",
            "\n",
            "Downloading http://yann.lecun.com/exdb/mnist/t10k-labels-idx1-ubyte.gz\n",
            "Downloading http://yann.lecun.com/exdb/mnist/t10k-labels-idx1-ubyte.gz to ./MNIST/raw/t10k-labels-idx1-ubyte.gz\n"
          ]
        },
        {
          "output_type": "display_data",
          "data": {
            "text/plain": [
              "  0%|          | 0/4542 [00:00<?, ?it/s]"
            ],
            "application/vnd.jupyter.widget-view+json": {
              "version_major": 2,
              "version_minor": 0,
              "model_id": "e6f4fb8730d146c29b1df9e7d01e1ccb"
            }
          },
          "metadata": {}
        },
        {
          "output_type": "stream",
          "name": "stdout",
          "text": [
            "Extracting ./MNIST/raw/t10k-labels-idx1-ubyte.gz to ./MNIST/raw\n",
            "\n"
          ]
        }
      ]
    },
    {
      "cell_type": "code",
      "source": [
        "len(train_dataset)"
      ],
      "metadata": {
        "colab": {
          "base_uri": "https://localhost:8080/"
        },
        "id": "L39R9qFH5ssM",
        "outputId": "9969ec28-b3d5-4746-85be-f6b1f1350c71"
      },
      "execution_count": 4,
      "outputs": [
        {
          "output_type": "execute_result",
          "data": {
            "text/plain": [
              "60000"
            ]
          },
          "metadata": {},
          "execution_count": 4
        }
      ]
    },
    {
      "cell_type": "code",
      "source": [
        "batch_size = 128\n",
        "data_loader = torch.utils.data.DataLoader(dataset=train_dataset,\n",
        "                                          batch_size=batch_size,\n",
        "                                          shuffle=True)"
      ],
      "metadata": {
        "id": "17y3c0ld5wh2"
      },
      "execution_count": 5,
      "outputs": []
    },
    {
      "cell_type": "code",
      "source": [
        "D = nn.Sequential(\n",
        "    nn.Linear(784, 512),\n",
        "    nn.LeakyReLU(0.2),\n",
        "    nn.Linear(512, 256),\n",
        "    nn.LeakyReLU(0.2),\n",
        "    nn.Linear(256, 1),\n",
        "    # nn.Sigmoid()\n",
        ")"
      ],
      "metadata": {
        "id": "9Z6wzab4544b"
      },
      "execution_count": 6,
      "outputs": []
    },
    {
      "cell_type": "code",
      "source": [
        "latent_dim = 100\n",
        "G = nn.Sequential(\n",
        "    nn.Linear(latent_dim, 256),\n",
        "    nn.LeakyReLU(0.2),\n",
        "    nn.BatchNorm1d(256, momentum=0.7),\n",
        "    nn.Linear(256, 512),\n",
        "    nn.LeakyReLU(0.2),\n",
        "    nn.BatchNorm1d(512, momentum=0.7),\n",
        "    nn.Linear(512, 1024),\n",
        "    nn.LeakyReLU(0.2),\n",
        "    nn.BatchNorm1d(1024, momentum=0.7),\n",
        "    nn.Linear(1024, 784),\n",
        "    nn.Tanh()\n",
        ")"
      ],
      "metadata": {
        "id": "71eG_rOg6JF9"
      },
      "execution_count": 7,
      "outputs": []
    },
    {
      "cell_type": "code",
      "source": [
        "device = torch.device('cuda' if torch.cuda.is_available() else 'cpu')\n",
        "D = D.to(device)\n",
        "G = G.to(device)"
      ],
      "metadata": {
        "id": "wJ21eJEY6jgL"
      },
      "execution_count": 8,
      "outputs": []
    },
    {
      "cell_type": "code",
      "source": [
        "criterion = nn.BCEWithLogitsLoss()\n",
        "d_optimizer = torch.optim.Adam(D.parameters(), lr=0.0002, betas=(0.5, 0.999))\n",
        "g_optimizer = torch.optim.Adam(G.parameters(), lr=0.0002, betas=(0.5, 0.999))"
      ],
      "metadata": {
        "id": "uCyBQJz06r8k"
      },
      "execution_count": 9,
      "outputs": []
    },
    {
      "cell_type": "code",
      "source": [
        "def scale_image(img):\n",
        "    out = (img + 1) / 2\n",
        "    return out"
      ],
      "metadata": {
        "id": "Jga8dd1t60iD"
      },
      "execution_count": 10,
      "outputs": []
    },
    {
      "cell_type": "code",
      "source": [
        "if not os.path.exists('gan_images'):\n",
        "    os.mkdir('gan_images')"
      ],
      "metadata": {
        "id": "Ivf6n0ai6-Pr"
      },
      "execution_count": 11,
      "outputs": []
    },
    {
      "cell_type": "code",
      "source": [
        "ones_ = torch.ones(batch_size, 1).to(device)\n",
        "zeros_ = torch.zeros(batch_size, 1).to(device)\n",
        "\n",
        "d_losses = []\n",
        "g_losses = []\n",
        "\n",
        "for epoch in range(200):\n",
        "    for inputs, _ in data_loader:\n",
        "        n = inputs.size(0)\n",
        "        inputs = inputs.reshape(n, 784).to(device)\n",
        "\n",
        "        ones = ones_[:n]\n",
        "        zeros = zeros_[:n]\n",
        "\n",
        "        real_outputs = D(inputs)\n",
        "        d_loss_real = criterion(real_outputs, ones)\n",
        "\n",
        "        noise = torch.randn(n, latent_dim).to(device)\n",
        "        fake_images = G(noise)\n",
        "        fake_outputs = D(fake_images)\n",
        "        d_loss_fake = criterion(fake_outputs, zeros)\n",
        "\n",
        "        d_loss = 0.5 * (d_loss_real + d_loss_fake)\n",
        "        d_optimizer.zero_grad()\n",
        "        g_optimizer.zero_grad()\n",
        "        d_loss.backward()\n",
        "        d_optimizer.step()\n",
        "\n",
        "        for _ in range(2):\n",
        "            noise = torch.randn(n, latent_dim).to(device)\n",
        "            fake_images = G(noise)\n",
        "            fake_outputs = D(fake_images)\n",
        "            g_loss = criterion(fake_outputs, ones)\n",
        "\n",
        "            d_optimizer.zero_grad()\n",
        "            g_optimizer.zero_grad()\n",
        "            g_loss.backward()\n",
        "            g_optimizer.step()\n",
        "\n",
        "        d_losses.append(d_loss.item())\n",
        "        g_losses.append(g_loss.item())\n",
        "\n",
        "\n",
        "    print(f'Epoch {epoch}, d_loss: {d_loss.item()}, g_loss: {g_loss.item()}')\n",
        "\n",
        "    fake_images = fake_images.reshape(-1, 1, 28, 28)\n",
        "    save_image(scale_image(fake_images), f'gan_images/{epoch+1}.png')"
      ],
      "metadata": {
        "colab": {
          "base_uri": "https://localhost:8080/"
        },
        "id": "YMb0yK_57FEf",
        "outputId": "cf5aca41-87d2-4bc6-f4a7-9c73c3d84579"
      },
      "execution_count": 12,
      "outputs": [
        {
          "output_type": "stream",
          "name": "stdout",
          "text": [
            "Epoch 0, d_loss: 0.680524468421936, g_loss: 0.6247208118438721\n",
            "Epoch 1, d_loss: 0.6696575880050659, g_loss: 0.6969504356384277\n",
            "Epoch 2, d_loss: 0.6676558256149292, g_loss: 0.8211595416069031\n",
            "Epoch 3, d_loss: 0.6804811358451843, g_loss: 0.9156699180603027\n",
            "Epoch 4, d_loss: 0.6845699548721313, g_loss: 0.7277848124504089\n",
            "Epoch 5, d_loss: 0.6902198195457458, g_loss: 0.7415655851364136\n",
            "Epoch 6, d_loss: 0.689172625541687, g_loss: 0.7649337649345398\n",
            "Epoch 7, d_loss: 0.685584545135498, g_loss: 0.735643744468689\n",
            "Epoch 8, d_loss: 0.682279109954834, g_loss: 0.7210904359817505\n",
            "Epoch 9, d_loss: 0.6838287115097046, g_loss: 0.795956552028656\n",
            "Epoch 10, d_loss: 0.6877655982971191, g_loss: 0.7460891604423523\n",
            "Epoch 11, d_loss: 0.6897257566452026, g_loss: 0.707872748374939\n",
            "Epoch 12, d_loss: 0.6890357732772827, g_loss: 0.7210544943809509\n",
            "Epoch 13, d_loss: 0.6727859377861023, g_loss: 0.6761667728424072\n",
            "Epoch 14, d_loss: 0.6694492101669312, g_loss: 0.7424381971359253\n",
            "Epoch 15, d_loss: 0.6827363967895508, g_loss: 0.7133667469024658\n",
            "Epoch 16, d_loss: 0.6758649349212646, g_loss: 0.758313775062561\n",
            "Epoch 17, d_loss: 0.6734724044799805, g_loss: 0.7639853358268738\n",
            "Epoch 18, d_loss: 0.6934348344802856, g_loss: 0.6675539016723633\n",
            "Epoch 19, d_loss: 0.6845138072967529, g_loss: 0.7677814364433289\n",
            "Epoch 20, d_loss: 0.6572892665863037, g_loss: 0.7646465301513672\n",
            "Epoch 21, d_loss: 0.6745028495788574, g_loss: 0.7357230186462402\n",
            "Epoch 22, d_loss: 0.6894954442977905, g_loss: 0.678158700466156\n",
            "Epoch 23, d_loss: 0.6768069267272949, g_loss: 0.7382270693778992\n",
            "Epoch 24, d_loss: 0.68355393409729, g_loss: 0.7587704062461853\n",
            "Epoch 25, d_loss: 0.6616172194480896, g_loss: 0.7663437724113464\n",
            "Epoch 26, d_loss: 0.6909952163696289, g_loss: 0.8282358050346375\n",
            "Epoch 27, d_loss: 0.6853538751602173, g_loss: 0.700946033000946\n",
            "Epoch 28, d_loss: 0.6742219924926758, g_loss: 0.6584538221359253\n",
            "Epoch 29, d_loss: 0.7004789113998413, g_loss: 0.703424870967865\n",
            "Epoch 30, d_loss: 0.6642754077911377, g_loss: 0.7453462481498718\n",
            "Epoch 31, d_loss: 0.6833662986755371, g_loss: 0.7599264979362488\n",
            "Epoch 32, d_loss: 0.6643145084381104, g_loss: 0.7107105255126953\n",
            "Epoch 33, d_loss: 0.684821605682373, g_loss: 0.8184708952903748\n",
            "Epoch 34, d_loss: 0.6520886421203613, g_loss: 0.81638503074646\n",
            "Epoch 35, d_loss: 0.6877725124359131, g_loss: 0.8130415678024292\n",
            "Epoch 36, d_loss: 0.6687619090080261, g_loss: 0.6625875234603882\n",
            "Epoch 37, d_loss: 0.6615303158760071, g_loss: 0.815690279006958\n",
            "Epoch 38, d_loss: 0.6669668555259705, g_loss: 0.8541170954704285\n",
            "Epoch 39, d_loss: 0.6686980724334717, g_loss: 0.7252291440963745\n",
            "Epoch 40, d_loss: 0.6649410724639893, g_loss: 0.8676013946533203\n",
            "Epoch 41, d_loss: 0.6550470590591431, g_loss: 0.8165831565856934\n",
            "Epoch 42, d_loss: 0.6684143543243408, g_loss: 0.7608930468559265\n",
            "Epoch 43, d_loss: 0.6719630360603333, g_loss: 0.8231708407402039\n",
            "Epoch 44, d_loss: 0.6661137938499451, g_loss: 0.6682372093200684\n",
            "Epoch 45, d_loss: 0.6482987403869629, g_loss: 0.8897482752799988\n",
            "Epoch 46, d_loss: 0.6582184433937073, g_loss: 0.7448587417602539\n",
            "Epoch 47, d_loss: 0.6577191948890686, g_loss: 0.6629395484924316\n",
            "Epoch 48, d_loss: 0.657916784286499, g_loss: 0.8782116770744324\n",
            "Epoch 49, d_loss: 0.6964293122291565, g_loss: 0.5354434251785278\n",
            "Epoch 50, d_loss: 0.6730287075042725, g_loss: 0.7764994502067566\n",
            "Epoch 51, d_loss: 0.6315950155258179, g_loss: 0.7875292301177979\n",
            "Epoch 52, d_loss: 0.6407881379127502, g_loss: 0.8623719215393066\n",
            "Epoch 53, d_loss: 0.6422500610351562, g_loss: 0.7891125679016113\n",
            "Epoch 54, d_loss: 0.6493188142776489, g_loss: 0.6474767923355103\n",
            "Epoch 55, d_loss: 0.6608957052230835, g_loss: 0.8364702463150024\n",
            "Epoch 56, d_loss: 0.6486436128616333, g_loss: 0.7972099184989929\n",
            "Epoch 57, d_loss: 0.6382431983947754, g_loss: 0.9009709358215332\n",
            "Epoch 58, d_loss: 0.655606746673584, g_loss: 0.7683891654014587\n",
            "Epoch 59, d_loss: 0.6158093810081482, g_loss: 1.0621238946914673\n",
            "Epoch 60, d_loss: 0.6183425188064575, g_loss: 0.7989518046379089\n",
            "Epoch 61, d_loss: 0.6618484258651733, g_loss: 0.5910322666168213\n",
            "Epoch 62, d_loss: 0.6220979690551758, g_loss: 0.8548681139945984\n",
            "Epoch 63, d_loss: 0.6433811187744141, g_loss: 0.7361268997192383\n",
            "Epoch 64, d_loss: 0.6132668256759644, g_loss: 0.9149958491325378\n",
            "Epoch 65, d_loss: 0.6001379489898682, g_loss: 0.7741868495941162\n",
            "Epoch 66, d_loss: 0.6380549669265747, g_loss: 0.8891565203666687\n",
            "Epoch 67, d_loss: 0.6317609548568726, g_loss: 0.6766562461853027\n",
            "Epoch 68, d_loss: 0.6513676643371582, g_loss: 0.577143669128418\n",
            "Epoch 69, d_loss: 0.6264301538467407, g_loss: 0.8839993476867676\n",
            "Epoch 70, d_loss: 0.6333929896354675, g_loss: 0.576038122177124\n",
            "Epoch 71, d_loss: 0.6322357654571533, g_loss: 0.8021481037139893\n",
            "Epoch 72, d_loss: 0.6352526545524597, g_loss: 0.8784863352775574\n",
            "Epoch 73, d_loss: 0.6295217275619507, g_loss: 0.9493741989135742\n",
            "Epoch 74, d_loss: 0.6519948244094849, g_loss: 0.6946959495544434\n",
            "Epoch 75, d_loss: 0.6186913847923279, g_loss: 0.7130500674247742\n",
            "Epoch 76, d_loss: 0.6416259407997131, g_loss: 0.7782267332077026\n",
            "Epoch 77, d_loss: 0.6499703526496887, g_loss: 0.6311007142066956\n",
            "Epoch 78, d_loss: 0.6306328177452087, g_loss: 0.9868285059928894\n",
            "Epoch 79, d_loss: 0.6219075918197632, g_loss: 0.8254331350326538\n",
            "Epoch 80, d_loss: 0.6429893970489502, g_loss: 1.0344369411468506\n",
            "Epoch 81, d_loss: 0.6418218612670898, g_loss: 0.7941900491714478\n",
            "Epoch 82, d_loss: 0.6450546979904175, g_loss: 0.7735521197319031\n",
            "Epoch 83, d_loss: 0.6738138198852539, g_loss: 0.8195027112960815\n",
            "Epoch 84, d_loss: 0.6084494590759277, g_loss: 0.8038961291313171\n",
            "Epoch 85, d_loss: 0.6161854863166809, g_loss: 0.7251993417739868\n",
            "Epoch 86, d_loss: 0.5879703164100647, g_loss: 1.2643494606018066\n",
            "Epoch 87, d_loss: 0.6410093307495117, g_loss: 0.8531116247177124\n",
            "Epoch 88, d_loss: 0.6038702726364136, g_loss: 0.7588939666748047\n",
            "Epoch 89, d_loss: 0.6340334415435791, g_loss: 0.9339491724967957\n",
            "Epoch 90, d_loss: 0.6332015991210938, g_loss: 0.8600096702575684\n",
            "Epoch 91, d_loss: 0.617975652217865, g_loss: 0.7452783584594727\n",
            "Epoch 92, d_loss: 0.6318256855010986, g_loss: 0.8065330386161804\n",
            "Epoch 93, d_loss: 0.6499041318893433, g_loss: 0.647897481918335\n",
            "Epoch 94, d_loss: 0.5983899235725403, g_loss: 0.6771728992462158\n",
            "Epoch 95, d_loss: 0.6662969589233398, g_loss: 0.8744750022888184\n",
            "Epoch 96, d_loss: 0.6224583387374878, g_loss: 0.8653120398521423\n",
            "Epoch 97, d_loss: 0.6717220544815063, g_loss: 1.120192527770996\n",
            "Epoch 98, d_loss: 0.5956498384475708, g_loss: 0.8047012090682983\n",
            "Epoch 99, d_loss: 0.6099737286567688, g_loss: 0.6364136934280396\n",
            "Epoch 100, d_loss: 0.5948542952537537, g_loss: 0.8644236922264099\n",
            "Epoch 101, d_loss: 0.6306666135787964, g_loss: 0.7793166041374207\n",
            "Epoch 102, d_loss: 0.6134667992591858, g_loss: 0.7805112600326538\n",
            "Epoch 103, d_loss: 0.6209776401519775, g_loss: 0.8966054916381836\n",
            "Epoch 104, d_loss: 0.6530746221542358, g_loss: 0.9793651103973389\n",
            "Epoch 105, d_loss: 0.635280966758728, g_loss: 0.5822495222091675\n",
            "Epoch 106, d_loss: 0.5945466160774231, g_loss: 0.7718467712402344\n",
            "Epoch 107, d_loss: 0.5818639993667603, g_loss: 0.8281097412109375\n",
            "Epoch 108, d_loss: 0.5865539312362671, g_loss: 0.9382977485656738\n",
            "Epoch 109, d_loss: 0.5900552272796631, g_loss: 0.8615565299987793\n",
            "Epoch 110, d_loss: 0.631028413772583, g_loss: 1.4179471731185913\n",
            "Epoch 111, d_loss: 0.6209334135055542, g_loss: 0.8025243282318115\n",
            "Epoch 112, d_loss: 0.58597332239151, g_loss: 0.7464384436607361\n",
            "Epoch 113, d_loss: 0.5582553148269653, g_loss: 0.7501680254936218\n",
            "Epoch 114, d_loss: 0.5861426591873169, g_loss: 0.9712722301483154\n",
            "Epoch 115, d_loss: 0.5877240300178528, g_loss: 0.7960798144340515\n",
            "Epoch 116, d_loss: 0.6844698786735535, g_loss: 1.257561206817627\n",
            "Epoch 117, d_loss: 0.598072350025177, g_loss: 1.2089647054672241\n",
            "Epoch 118, d_loss: 0.6466526985168457, g_loss: 1.219210147857666\n",
            "Epoch 119, d_loss: 0.6164981126785278, g_loss: 1.0115580558776855\n",
            "Epoch 120, d_loss: 0.5844587087631226, g_loss: 1.2030854225158691\n",
            "Epoch 121, d_loss: 0.6160566806793213, g_loss: 1.1755026578903198\n",
            "Epoch 122, d_loss: 0.6490898132324219, g_loss: 1.11842942237854\n",
            "Epoch 123, d_loss: 0.5730247497558594, g_loss: 0.9431807398796082\n",
            "Epoch 124, d_loss: 0.5580941438674927, g_loss: 1.0352041721343994\n",
            "Epoch 125, d_loss: 0.6270188093185425, g_loss: 1.4278749227523804\n",
            "Epoch 126, d_loss: 0.6313017010688782, g_loss: 1.1596707105636597\n",
            "Epoch 127, d_loss: 0.587795615196228, g_loss: 1.027709722518921\n",
            "Epoch 128, d_loss: 0.5962049961090088, g_loss: 0.8846639394760132\n",
            "Epoch 129, d_loss: 0.5755974054336548, g_loss: 0.9803416132926941\n",
            "Epoch 130, d_loss: 0.5824967622756958, g_loss: 0.8627600073814392\n",
            "Epoch 131, d_loss: 0.6096735000610352, g_loss: 0.9514389038085938\n",
            "Epoch 132, d_loss: 0.573195219039917, g_loss: 1.0377638339996338\n",
            "Epoch 133, d_loss: 0.6162075996398926, g_loss: 0.6746372580528259\n",
            "Epoch 134, d_loss: 0.579126238822937, g_loss: 0.9557673335075378\n",
            "Epoch 135, d_loss: 0.6202069520950317, g_loss: 0.8326155543327332\n",
            "Epoch 136, d_loss: 0.608077347278595, g_loss: 1.3097156286239624\n",
            "Epoch 137, d_loss: 0.6137192249298096, g_loss: 0.9305815696716309\n",
            "Epoch 138, d_loss: 0.5611724853515625, g_loss: 1.1814789772033691\n",
            "Epoch 139, d_loss: 0.5949878692626953, g_loss: 0.7363719940185547\n",
            "Epoch 140, d_loss: 0.6308883428573608, g_loss: 0.8671236038208008\n",
            "Epoch 141, d_loss: 0.5567514896392822, g_loss: 0.9285688400268555\n",
            "Epoch 142, d_loss: 0.6063790321350098, g_loss: 1.0875821113586426\n",
            "Epoch 143, d_loss: 0.6187427043914795, g_loss: 0.9786118865013123\n",
            "Epoch 144, d_loss: 0.5688323974609375, g_loss: 0.6557842493057251\n",
            "Epoch 145, d_loss: 0.629662811756134, g_loss: 1.1338965892791748\n",
            "Epoch 146, d_loss: 0.5686569213867188, g_loss: 0.900796115398407\n",
            "Epoch 147, d_loss: 0.6194620132446289, g_loss: 1.1478947401046753\n",
            "Epoch 148, d_loss: 0.5636334419250488, g_loss: 1.0540828704833984\n",
            "Epoch 149, d_loss: 0.5837551355361938, g_loss: 1.0162769556045532\n",
            "Epoch 150, d_loss: 0.5749313831329346, g_loss: 0.7610259056091309\n",
            "Epoch 151, d_loss: 0.6156010627746582, g_loss: 0.8471068143844604\n",
            "Epoch 152, d_loss: 0.614525318145752, g_loss: 0.9445855617523193\n",
            "Epoch 153, d_loss: 0.5842243432998657, g_loss: 1.1066057682037354\n",
            "Epoch 154, d_loss: 0.623754620552063, g_loss: 1.0225255489349365\n",
            "Epoch 155, d_loss: 0.6216740012168884, g_loss: 1.5303423404693604\n",
            "Epoch 156, d_loss: 0.5861863493919373, g_loss: 1.3074164390563965\n",
            "Epoch 157, d_loss: 0.5417634844779968, g_loss: 1.074350118637085\n",
            "Epoch 158, d_loss: 0.5845010280609131, g_loss: 1.147214412689209\n",
            "Epoch 159, d_loss: 0.576399028301239, g_loss: 0.9929845333099365\n",
            "Epoch 160, d_loss: 0.6052934527397156, g_loss: 0.7938668131828308\n",
            "Epoch 161, d_loss: 0.6045443415641785, g_loss: 1.1146973371505737\n",
            "Epoch 162, d_loss: 0.5513836741447449, g_loss: 0.9940364360809326\n",
            "Epoch 163, d_loss: 0.6131072640419006, g_loss: 1.3861397504806519\n",
            "Epoch 164, d_loss: 0.5948014855384827, g_loss: 1.3386367559432983\n",
            "Epoch 165, d_loss: 0.5443384051322937, g_loss: 0.9785143136978149\n",
            "Epoch 166, d_loss: 0.5706756114959717, g_loss: 1.2385891675949097\n",
            "Epoch 167, d_loss: 0.5599074363708496, g_loss: 0.7294836044311523\n",
            "Epoch 168, d_loss: 0.5452422499656677, g_loss: 0.8726648092269897\n",
            "Epoch 169, d_loss: 0.5402919054031372, g_loss: 0.9840048551559448\n",
            "Epoch 170, d_loss: 0.6184948682785034, g_loss: 1.010998249053955\n",
            "Epoch 171, d_loss: 0.5034321546554565, g_loss: 0.9769009351730347\n",
            "Epoch 172, d_loss: 0.5853557586669922, g_loss: 1.194747805595398\n",
            "Epoch 173, d_loss: 0.6428187489509583, g_loss: 0.5091611742973328\n",
            "Epoch 174, d_loss: 0.5741779804229736, g_loss: 0.9620819091796875\n",
            "Epoch 175, d_loss: 0.5673863887786865, g_loss: 0.9219936728477478\n",
            "Epoch 176, d_loss: 0.5824234485626221, g_loss: 0.8937930464744568\n",
            "Epoch 177, d_loss: 0.5299939513206482, g_loss: 0.897969126701355\n",
            "Epoch 178, d_loss: 0.5710669755935669, g_loss: 0.7192955017089844\n",
            "Epoch 179, d_loss: 0.573263943195343, g_loss: 1.0582237243652344\n",
            "Epoch 180, d_loss: 0.5771814584732056, g_loss: 0.7094911932945251\n",
            "Epoch 181, d_loss: 0.5929045677185059, g_loss: 0.8536979556083679\n",
            "Epoch 182, d_loss: 0.6094191074371338, g_loss: 0.9392563104629517\n",
            "Epoch 183, d_loss: 0.5904295444488525, g_loss: 1.1236008405685425\n",
            "Epoch 184, d_loss: 0.5405616760253906, g_loss: 0.8892032504081726\n",
            "Epoch 185, d_loss: 0.562787652015686, g_loss: 0.8906810283660889\n",
            "Epoch 186, d_loss: 0.6516534686088562, g_loss: 1.283184289932251\n",
            "Epoch 187, d_loss: 0.642921507358551, g_loss: 1.3423312902450562\n",
            "Epoch 188, d_loss: 0.5796045064926147, g_loss: 1.262303352355957\n",
            "Epoch 189, d_loss: 0.6043226718902588, g_loss: 1.4398397207260132\n",
            "Epoch 190, d_loss: 0.56412672996521, g_loss: 0.6611089110374451\n",
            "Epoch 191, d_loss: 0.6074181795120239, g_loss: 0.7132202982902527\n",
            "Epoch 192, d_loss: 0.5982135534286499, g_loss: 1.1241886615753174\n",
            "Epoch 193, d_loss: 0.5716531276702881, g_loss: 1.291541337966919\n",
            "Epoch 194, d_loss: 0.5670264363288879, g_loss: 1.0090177059173584\n",
            "Epoch 195, d_loss: 0.5686214566230774, g_loss: 0.8140408396720886\n",
            "Epoch 196, d_loss: 0.5396227836608887, g_loss: 0.8559359908103943\n",
            "Epoch 197, d_loss: 0.5934605002403259, g_loss: 0.7754527926445007\n",
            "Epoch 198, d_loss: 0.5695902705192566, g_loss: 1.0350477695465088\n",
            "Epoch 199, d_loss: 0.5329339504241943, g_loss: 0.9251987934112549\n"
          ]
        }
      ]
    },
    {
      "cell_type": "code",
      "source": [
        "plt.plot(g_losses, label='g_loss')\n",
        "plt.plot(d_losses, label='d_loss')\n",
        "plt.legend()"
      ],
      "metadata": {
        "colab": {
          "base_uri": "https://localhost:8080/",
          "height": 282
        },
        "id": "YZcusaE59Wn2",
        "outputId": "b0c6fc21-333f-49f5-adb8-be17f2f0e689"
      },
      "execution_count": 13,
      "outputs": [
        {
          "output_type": "execute_result",
          "data": {
            "text/plain": [
              "<matplotlib.legend.Legend at 0x7f79f0f27f50>"
            ]
          },
          "metadata": {},
          "execution_count": 13
        },
        {
          "output_type": "display_data",
          "data": {
            "text/plain": [
              "<Figure size 432x288 with 1 Axes>"
            ],
            "image/png": "[encoded data removed]"
          },
          "metadata": {
            "needs_background": "light"
          }
        }
      ]
    },
    {
      "cell_type": "code",
      "source": [
        "from skimage.io import imread\n",
        "a = imread('gan_images/1.png')\n",
        "plt.imshow(a)"
      ],
      "metadata": {
        "colab": {
          "base_uri": "https://localhost:8080/",
          "height": 286
        },
        "id": "eK2bUaVQ_SXz",
        "outputId": "c3267e31-6e96-49e6-eff1-c920a1e623be"
      },
      "execution_count": 14,
      "outputs": [
        {
          "output_type": "execute_result",
          "data": {
            "text/plain": [
              "<matplotlib.image.AxesImage at 0x7f79a4013550>"
            ]
          },
          "metadata": {},
          "execution_count": 14
        },
        {
          "output_type": "display_data",
          "data": {
            "text/plain": [
              "<Figure size 432x288 with 1 Axes>"
            ],
            "image/png": "[encoded data removed]"
          },
          "metadata": {
            "needs_background": "light"
          }
        }
      ]
    },
    {
      "cell_type": "code",
      "source": [
        "a = imread('gan_images/50.png')\n",
        "plt.imshow(a)"
      ],
      "metadata": {
        "colab": {
          "base_uri": "https://localhost:8080/",
          "height": 286
        },
        "id": "JUKxF68H_kxy",
        "outputId": "1e8c903b-8e75-45ad-b444-939b4157d053"
      },
      "execution_count": 15,
      "outputs": [
        {
          "output_type": "execute_result",
          "data": {
            "text/plain": [
              "<matplotlib.image.AxesImage at 0x7f79a278c550>"
            ]
          },
          "metadata": {},
          "execution_count": 15
        },
        {
          "output_type": "display_data",
          "data": {
            "text/plain": [
              "<Figure size 432x288 with 1 Axes>"
            ],
            "image/png": "[encoded data removed]"
          },
          "metadata": {
            "needs_background": "light"
          }
        }
      ]
    },
    {
      "cell_type": "code",
      "source": [
        "a = imread('gan_images/100.png')\n",
        "plt.imshow(a)"
      ],
      "metadata": {
        "colab": {
          "base_uri": "https://localhost:8080/",
          "height": 286
        },
        "id": "z-uaR1-2_laW",
        "outputId": "10ab22b3-a983-4a81-a534-20a881bbe930"
      },
      "execution_count": 16,
      "outputs": [
        {
          "output_type": "execute_result",
          "data": {
            "text/plain": [
              "<matplotlib.image.AxesImage at 0x7f79a2771490>"
            ]
          },
          "metadata": {},
          "execution_count": 16
        },
        {
          "output_type": "display_data",
          "data": {
            "text/plain": [
              "<Figure size 432x288 with 1 Axes>"
            ],
            "image/png": "[encoded data removed]"
          },
          "metadata": {
            "needs_background": "light"
          }
        }
      ]
    },
    {
      "cell_type": "code",
      "source": [
        "a = imread('gan_images/150.png')\n",
        "plt.imshow(a)"
      ],
      "metadata": {
        "colab": {
          "base_uri": "https://localhost:8080/",
          "height": 286
        },
        "id": "qHHif8fN_spO",
        "outputId": "aa063fb7-8a0c-44af-f468-514591176610"
      },
      "execution_count": 17,
      "outputs": [
        {
          "output_type": "execute_result",
          "data": {
            "text/plain": [
              "<matplotlib.image.AxesImage at 0x7f79a26d5310>"
            ]
          },
          "metadata": {},
          "execution_count": 17
        },
        {
          "output_type": "display_data",
          "data": {
            "text/plain": [
              "<Figure size 432x288 with 1 Axes>"
            ],
            "image/png": "[encoded data removed]"
          },
          "metadata": {
            "needs_background": "light"
          }
        }
      ]
    },
    {
      "cell_type": "code",
      "source": [
        "a = imread('gan_images/200.png')\n",
        "plt.imshow(a)"
      ],
      "metadata": {
        "colab": {
          "base_uri": "https://localhost:8080/",
          "height": 286
        },
        "id": "0rEZOKAD_wap",
        "outputId": "d16f5eb4-d8f9-4439-938e-b723aa01af39"
      },
      "execution_count": 18,
      "outputs": [
        {
          "output_type": "execute_result",
          "data": {
            "text/plain": [
              "<matplotlib.image.AxesImage at 0x7f79a26ba190>"
            ]
          },
          "metadata": {},
          "execution_count": 18
        },
        {
          "output_type": "display_data",
          "data": {
            "text/plain": [
              "<Figure size 432x288 with 1 Axes>"
            ],
            "image/png": "[encoded data removed]"
          },
          "metadata": {
            "needs_background": "light"
          }
        }
      ]
    },
    {
      "cell_type": "code",
      "source": [],
      "metadata": {
        "id": "ff8mq3HLKLx5"
      },
      "execution_count": null,
      "outputs": []
    }
  ]
}