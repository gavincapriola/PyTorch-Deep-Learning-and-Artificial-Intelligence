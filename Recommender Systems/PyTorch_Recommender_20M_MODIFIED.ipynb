{
  "nbformat": 4,
  "nbformat_minor": 0,
  "metadata": {
    "colab": {
      "provenance": [],
      "authorship_tag": "ABX9TyMBLEtg1FmGX089NV60fXcQ",
      "include_colab_link": true
    },
    "kernelspec": {
      "name": "python3",
      "display_name": "Python 3"
    },
    "language_info": {
      "name": "python"
    },
    "accelerator": "GPU"
  },
  "cells": [
    {
      "cell_type": "markdown",
      "metadata": {
        "id": "view-in-github",
        "colab_type": "text"
      },
      "source": [
        "<a href=\"https://colab.research.google.com/github/gavincapriola/PyTorch-Deep-Learning-and-Artificial-Intelligence/blob/main/Recommender%20Systems/PyTorch_Recommender_20M_MODIFIED.ipynb\" target=\"_parent\"><img src=\"https://colab.research.google.com/assets/colab-badge.svg\" alt=\"Open In Colab\"/></a>"
      ]
    },
    {
      "cell_type": "code",
      "execution_count": 1,
      "metadata": {
        "id": "sklDiNCRTBC1"
      },
      "outputs": [],
      "source": [
        "import torch\n",
        "import torch.nn as nn\n",
        "import torch.nn.functional as F\n",
        "import numpy as np\n",
        "import pandas as pd\n",
        "import matplotlib.pyplot as plt\n",
        "import datetime\n",
        "from sklearn.utils import shuffle"
      ]
    },
    {
      "cell_type": "code",
      "source": [
        "# data is from: https://grouplens.org/datasets/movielens/\n",
        "!wget -nc https://files.grouplens.org/datasets/movielens/ml-20m.zip"
      ],
      "metadata": {
        "id": "xSDRhVp6YM90",
        "colab": {
          "base_uri": "https://localhost:8080/"
        },
        "outputId": "ab6d7192-5a0f-4bf3-d1e4-6f532e15d697"
      },
      "execution_count": 2,
      "outputs": [
        {
          "output_type": "stream",
          "name": "stdout",
          "text": [
            "File ‘ml-20m.zip’ already there; not retrieving.\n",
            "\n"
          ]
        }
      ]
    },
    {
      "cell_type": "code",
      "source": [
        "!unzip -n ml-20m.zip"
      ],
      "metadata": {
        "id": "ck3KuJ57YU_6",
        "colab": {
          "base_uri": "https://localhost:8080/"
        },
        "outputId": "50ca7ba3-2bf7-4e62-d01d-21dd44f54885"
      },
      "execution_count": 3,
      "outputs": [
        {
          "output_type": "stream",
          "name": "stdout",
          "text": [
            "Archive:  ml-20m.zip\n"
          ]
        }
      ]
    },
    {
      "cell_type": "code",
      "source": [
        "!ls"
      ],
      "metadata": {
        "id": "jaewJ98eYfy1",
        "colab": {
          "base_uri": "https://localhost:8080/"
        },
        "outputId": "de541918-994c-4d39-d689-92c929f9b745"
      },
      "execution_count": 4,
      "outputs": [
        {
          "output_type": "stream",
          "name": "stdout",
          "text": [
            "ml-20m\tml-20m.zip  sample_data\n"
          ]
        }
      ]
    },
    {
      "cell_type": "code",
      "source": [
        "df = pd.read_csv('ml-20m/ratings.csv')\n",
        "df.head()"
      ],
      "metadata": {
        "id": "Q9p4dWuvYg3V",
        "colab": {
          "base_uri": "https://localhost:8080/",
          "height": 206
        },
        "outputId": "798d7892-e139-45bf-cd2d-557c78af8965"
      },
      "execution_count": 5,
      "outputs": [
        {
          "output_type": "execute_result",
          "data": {
            "text/plain": [
              "   userId  movieId  rating   timestamp\n",
              "0       1        2     3.5  1112486027\n",
              "1       1       29     3.5  1112484676\n",
              "2       1       32     3.5  1112484819\n",
              "3       1       47     3.5  1112484727\n",
              "4       1       50     3.5  1112484580"
            ],
            "text/html": [
              "\n",
              "  <div id=\"df-db10e1f7-8154-4972-b1bf-e890a20fd495\">\n",
              "    <div class=\"colab-df-container\">\n",
              "      <div>\n",
              "<style scoped>\n",
              "    .dataframe tbody tr th:only-of-type {\n",
              "        vertical-align: middle;\n",
              "    }\n",
              "\n",
              "    .dataframe tbody tr th {\n",
              "        vertical-align: top;\n",
              "    }\n",
              "\n",
              "    .dataframe thead th {\n",
              "        text-align: right;\n",
              "    }\n",
              "</style>\n",
              "<table border=\"1\" class=\"dataframe\">\n",
              "  <thead>\n",
              "    <tr style=\"text-align: right;\">\n",
              "      <th></th>\n",
              "      <th>userId</th>\n",
              "      <th>movieId</th>\n",
              "      <th>rating</th>\n",
              "      <th>timestamp</th>\n",
              "    </tr>\n",
              "  </thead>\n",
              "  <tbody>\n",
              "    <tr>\n",
              "      <th>0</th>\n",
              "      <td>1</td>\n",
              "      <td>2</td>\n",
              "      <td>3.5</td>\n",
              "      <td>1112486027</td>\n",
              "    </tr>\n",
              "    <tr>\n",
              "      <th>1</th>\n",
              "      <td>1</td>\n",
              "      <td>29</td>\n",
              "      <td>3.5</td>\n",
              "      <td>1112484676</td>\n",
              "    </tr>\n",
              "    <tr>\n",
              "      <th>2</th>\n",
              "      <td>1</td>\n",
              "      <td>32</td>\n",
              "      <td>3.5</td>\n",
              "      <td>1112484819</td>\n",
              "    </tr>\n",
              "    <tr>\n",
              "      <th>3</th>\n",
              "      <td>1</td>\n",
              "      <td>47</td>\n",
              "      <td>3.5</td>\n",
              "      <td>1112484727</td>\n",
              "    </tr>\n",
              "    <tr>\n",
              "      <th>4</th>\n",
              "      <td>1</td>\n",
              "      <td>50</td>\n",
              "      <td>3.5</td>\n",
              "      <td>1112484580</td>\n",
              "    </tr>\n",
              "  </tbody>\n",
              "</table>\n",
              "</div>\n",
              "      <button class=\"colab-df-convert\" onclick=\"convertToInteractive('df-db10e1f7-8154-4972-b1bf-e890a20fd495')\"\n",
              "              title=\"Convert this dataframe to an interactive table.\"\n",
              "              style=\"display:none;\">\n",
              "        \n",
              "  <svg xmlns=\"http://www.w3.org/2000/svg\" height=\"24px\"viewBox=\"0 0 24 24\"\n",
              "       width=\"24px\">\n",
              "    <path d=\"M0 0h24v24H0V0z\" fill=\"none\"/>\n",
              "    <path d=\"M18.56 5.44l.94 2.06.94-2.06 2.06-.94-2.06-.94-.94-2.06-.94 2.06-2.06.94zm-11 1L8.5 8.5l.94-2.06 2.06-.94-2.06-.94L8.5 2.5l-.94 2.06-2.06.94zm10 10l.94 2.06.94-2.06 2.06-.94-2.06-.94-.94-2.06-.94 2.06-2.06.94z\"/><path d=\"M17.41 7.96l-1.37-1.37c-.4-.4-.92-.59-1.43-.59-.52 0-1.04.2-1.43.59L10.3 9.45l-7.72 7.72c-.78.78-.78 2.05 0 2.83L4 21.41c.39.39.9.59 1.41.59.51 0 1.02-.2 1.41-.59l7.78-7.78 2.81-2.81c.8-.78.8-2.07 0-2.86zM5.41 20L4 18.59l7.72-7.72 1.47 1.35L5.41 20z\"/>\n",
              "  </svg>\n",
              "      </button>\n",
              "      \n",
              "  <style>\n",
              "    .colab-df-container {\n",
              "      display:flex;\n",
              "      flex-wrap:wrap;\n",
              "      gap: 12px;\n",
              "    }\n",
              "\n",
              "    .colab-df-convert {\n",
              "      background-color: #E8F0FE;\n",
              "      border: none;\n",
              "      border-radius: 50%;\n",
              "      cursor: pointer;\n",
              "      display: none;\n",
              "      fill: #1967D2;\n",
              "      height: 32px;\n",
              "      padding: 0 0 0 0;\n",
              "      width: 32px;\n",
              "    }\n",
              "\n",
              "    .colab-df-convert:hover {\n",
              "      background-color: #E2EBFA;\n",
              "      box-shadow: 0px 1px 2px rgba(60, 64, 67, 0.3), 0px 1px 3px 1px rgba(60, 64, 67, 0.15);\n",
              "      fill: #174EA6;\n",
              "    }\n",
              "\n",
              "    [theme=dark] .colab-df-convert {\n",
              "      background-color: #3B4455;\n",
              "      fill: #D2E3FC;\n",
              "    }\n",
              "\n",
              "    [theme=dark] .colab-df-convert:hover {\n",
              "      background-color: #434B5C;\n",
              "      box-shadow: 0px 1px 3px 1px rgba(0, 0, 0, 0.15);\n",
              "      filter: drop-shadow(0px 1px 2px rgba(0, 0, 0, 0.3));\n",
              "      fill: #FFFFFF;\n",
              "    }\n",
              "  </style>\n",
              "\n",
              "      <script>\n",
              "        const buttonEl =\n",
              "          document.querySelector('#df-db10e1f7-8154-4972-b1bf-e890a20fd495 button.colab-df-convert');\n",
              "        buttonEl.style.display =\n",
              "          google.colab.kernel.accessAllowed ? 'block' : 'none';\n",
              "\n",
              "        async function convertToInteractive(key) {\n",
              "          const element = document.querySelector('#df-db10e1f7-8154-4972-b1bf-e890a20fd495');\n",
              "          const dataTable =\n",
              "            await google.colab.kernel.invokeFunction('convertToInteractive',\n",
              "                                                     [key], {});\n",
              "          if (!dataTable) return;\n",
              "\n",
              "          const docLinkHtml = 'Like what you see? Visit the ' +\n",
              "            '<a target=\"_blank\" href=https://colab.research.google.com/notebooks/data_table.ipynb>data table notebook</a>'\n",
              "            + ' to learn more about interactive tables.';\n",
              "          element.innerHTML = '';\n",
              "          dataTable['output_type'] = 'display_data';\n",
              "          await google.colab.output.renderOutput(dataTable, element);\n",
              "          const docLink = document.createElement('div');\n",
              "          docLink.innerHTML = docLinkHtml;\n",
              "          element.appendChild(docLink);\n",
              "        }\n",
              "      </script>\n",
              "    </div>\n",
              "  </div>\n",
              "  "
            ]
          },
          "metadata": {},
          "execution_count": 5
        }
      ]
    },
    {
      "cell_type": "code",
      "source": [
        "# We can't trust the userId and movieId to be numbered 0...N-1\n",
        "# Let's just set our own ids\n",
        "\n",
        "# current_user_id = 0\n",
        "# custom_user_map = {} # old user id > new user id\n",
        "# def map_user_id(row):\n",
        "#     global current_user_id, custom_user_map\n",
        "#     old_user_id = row['userId']\n",
        "#     if old_user_id not in custom_user_map:\n",
        "#         custom_user_map[old_user_id] = current_user_id\n",
        "#         current_user_id += 1\n",
        "#     return custom_user_map[old_user_id]\n",
        "\n",
        "# df['new_user_id'] = df.apply(map_user_id, axis=1)\n",
        "\n",
        "df.userId = pd.Categorical(df.userId)\n",
        "df['new_user_id'] = df.userId.cat.codes"
      ],
      "metadata": {
        "id": "X4XLtA3yYl85"
      },
      "execution_count": 6,
      "outputs": []
    },
    {
      "cell_type": "code",
      "source": [
        "# Now do the same for movieId\n",
        "\n",
        "# current_movie_id = 0\n",
        "# custom_movie_map = {} # old movie id > new movie id\n",
        "# def map_movie_id(row):\n",
        "#     global current_movie_id, custom_movie_map\n",
        "#     old_movie_id = row['movieId']\n",
        "#     if old_movie_id not in custom_movie_map:\n",
        "#         custom_movie_map[old_movie_id] = current_movie_id\n",
        "#         current_movie_id += 1\n",
        "#     return custom_movie_map[old_movie_id]\n",
        "\n",
        "# df['new_movie_id'] = df.apply(map_movie_id, axis=1)\n",
        "\n",
        "df.movieId = pd.Categorical(df.movieId)\n",
        "df['new_movie_id'] = df.movieId.cat.codes"
      ],
      "metadata": {
        "id": "yeGzMDZ9Z_lV"
      },
      "execution_count": 7,
      "outputs": []
    },
    {
      "cell_type": "code",
      "source": [
        "# Get user IDs, and ratings as separate arrays\n",
        "user_ids = df['new_user_id'].values\n",
        "movie_ids = df['new_movie_id'].values\n",
        "ratings = df['rating'].values - 2.5"
      ],
      "metadata": {
        "id": "LiSH7undaCZJ"
      },
      "execution_count": 8,
      "outputs": []
    },
    {
      "cell_type": "code",
      "source": [
        "# Get number of users and number of movies\n",
        "N = len(set(user_ids))\n",
        "M = len(set(movie_ids))\n",
        "\n",
        "# Set embedding dimension\n",
        "D = 10"
      ],
      "metadata": {
        "id": "4oVUisfBaEy0"
      },
      "execution_count": 9,
      "outputs": []
    },
    {
      "cell_type": "code",
      "source": [
        "# Make the neural network\n",
        "class Model(nn.Module):\n",
        "    def __init__(self, n_users, n_items, embed_dim, n_hidden=1024):\n",
        "        super(Model, self).__init__()\n",
        "        self.N = n_users\n",
        "        self.M = n_items\n",
        "        self.D = embed_dim\n",
        "        \n",
        "        self.u_emb = nn.Embedding(self.N, self.D)\n",
        "        self.m_emb = nn.Embedding(self.M, self.D)\n",
        "        self.fc1 = nn.Linear(2*self.D, n_hidden)\n",
        "        self.fc2 = nn.Linear(n_hidden, 1)\n",
        "\n",
        "        # set the weights since N(0, 1) leads to poor results\n",
        "        self.u_emb.weight.data = nn.Parameter(\n",
        "            torch.Tensor(np.random.randn(self.N, self.D) * 0.01))\n",
        "        self.m_emb.weight.data = nn.Parameter(\n",
        "            torch.Tensor(np.random.randn(self.M, self.D) * 0.01))\n",
        "        \n",
        "    def forward(self, u, m):\n",
        "        u = self.u_emb(u) # output is (num_samples, D)\n",
        "        m = self.m_emb(m) # output is (num_samples, D)\n",
        "        \n",
        "        # merge\n",
        "        out = torch.cat((u, m), 1) # output is (num_samples, 2D)\n",
        "        \n",
        "        # ANN\n",
        "        out = self.fc1(out)\n",
        "        out = F.relu(out)\n",
        "        out = self.fc2(out)\n",
        "        return out"
      ],
      "metadata": {
        "id": "USiEhHYFaOAm"
      },
      "execution_count": 10,
      "outputs": []
    },
    {
      "cell_type": "code",
      "source": [
        "device = torch.device(\"cuda:0\" if torch.cuda.is_available() else \"cpu\")\n",
        "print(\"Using device:\", device)"
      ],
      "metadata": {
        "id": "cEXHBGbda4O8",
        "colab": {
          "base_uri": "https://localhost:8080/"
        },
        "outputId": "880ff700-3962-4077-86b2-d9e30dc26b68"
      },
      "execution_count": 11,
      "outputs": [
        {
          "output_type": "stream",
          "name": "stdout",
          "text": [
            "Using device: cuda:0\n"
          ]
        }
      ]
    },
    {
      "cell_type": "code",
      "source": [
        "model = Model(N, M, D)\n",
        "model.to(device)"
      ],
      "metadata": {
        "id": "37i_fJPOa72A",
        "colab": {
          "base_uri": "https://localhost:8080/"
        },
        "outputId": "b5202e34-7132-4ee7-d35d-323d27dbdea0"
      },
      "execution_count": 12,
      "outputs": [
        {
          "output_type": "execute_result",
          "data": {
            "text/plain": [
              "Model(\n",
              "  (u_emb): Embedding(138493, 10)\n",
              "  (m_emb): Embedding(26744, 10)\n",
              "  (fc1): Linear(in_features=20, out_features=1024, bias=True)\n",
              "  (fc2): Linear(in_features=1024, out_features=1, bias=True)\n",
              ")"
            ]
          },
          "metadata": {},
          "execution_count": 12
        }
      ]
    },
    {
      "cell_type": "code",
      "source": [
        "# loss and optimizer\n",
        "criterion = nn.MSELoss()\n",
        "optimizer = torch.optim.SGD(model.parameters(), lr=0.08, momentum=0.9)"
      ],
      "metadata": {
        "id": "Gde6O4ZXbS_9"
      },
      "execution_count": 13,
      "outputs": []
    },
    {
      "cell_type": "code",
      "source": [
        "def batch_gd2(model, criterion, optimizer, train_data, test_data, epochs, bs=512):\n",
        "    train_users, train_movies, train_ratings = train_data\n",
        "    test_users, test_movies, test_ratings = test_data\n",
        "\n",
        "    train_losses = np.zeros(epochs)\n",
        "    test_losses = np.zeros(epochs)\n",
        "\n",
        "    # batches per epoch\n",
        "    Ntrain = len(train_users)\n",
        "    batches_per_epoch = int(np.ceil(Ntrain / bs))\n",
        "    \n",
        "    for it in range(epochs):\n",
        "        t0 = datetime.datetime.now()\n",
        "        train_loss = []\n",
        "\n",
        "        # shuffle each batch\n",
        "        train_users, train_movies, train_ratings = shuffle(\n",
        "            train_users, train_movies, train_ratings\n",
        "        )\n",
        "\n",
        "        for j in range(batches_per_epoch):\n",
        "            # get the batch\n",
        "            users = train_users[j*bs:(j+1)*bs]\n",
        "            movies = train_movies[j*bs:(j+1)*bs]\n",
        "            targets = train_ratings[j*bs:(j+1)*bs]\n",
        "\n",
        "            # conver to tensor\n",
        "            users = torch.from_numpy(users).long()\n",
        "            movies = torch.from_numpy(movies).long()\n",
        "            targets = torch.from_numpy(targets)\n",
        "\n",
        "            # reshape targets\n",
        "            targets = targets.view(-1, 1).float()\n",
        "\n",
        "            # move data to GPU\n",
        "            users, movies, targets = users.to(device), movies.to(device), targets.to(device)\n",
        "            \n",
        "            # zero the parameter gradients\n",
        "            optimizer.zero_grad()\n",
        "\n",
        "            # Forward pass\n",
        "            outputs = model(users, movies)\n",
        "            loss = criterion(outputs, targets)\n",
        "            \n",
        "            # Backward and optimize\n",
        "            loss.backward()\n",
        "            optimizer.step()\n",
        "            \n",
        "            train_loss.append(loss.item())\n",
        "        \n",
        "        # Get train loss and test loss\n",
        "        train_loss = np.mean(train_loss) # a little misleading\n",
        "        \n",
        "        test_loss = []\n",
        "        for j in range(int(np.ceil(len(test_users) / bs))):\n",
        "            # get the batch\n",
        "            users = test_users[j*bs:(j+1)*bs]\n",
        "            movies = test_movies[j*bs:(j+1)*bs]\n",
        "            targets = test_ratings[j*bs:(j+1)*bs]\n",
        "\n",
        "            # conver to tensor\n",
        "            users = torch.from_numpy(users).long()\n",
        "            movies = torch.from_numpy(movies).long()\n",
        "            targets = torch.from_numpy(targets)\n",
        "\n",
        "            # reshape targets\n",
        "            targets = targets.view(-1, 1).float()\n",
        "\n",
        "            # move data to GPU\n",
        "            users, movies, targets = users.to(device), movies.to(device), targets.to(device)\n",
        "\n",
        "            outputs = model(users, movies)\n",
        "            loss = criterion(outputs, targets).item()\n",
        "            test_loss.append(loss)\n",
        "        test_loss = np.mean(test_loss)\n",
        "        \n",
        "        # Save losses\n",
        "        train_losses[it] = train_loss\n",
        "        test_losses[it] = test_loss\n",
        "        \n",
        "        dt = datetime.datetime.now() - t0\n",
        "        print(f'Epoch {it+1}/{epochs}, Train Loss: {train_loss:.4f}, Test Loss: {test_loss:.4f}, Duration: {dt}')\n",
        "        \n",
        "    return train_losses, test_losses"
      ],
      "metadata": {
        "id": "P0CcKat6otWB"
      },
      "execution_count": 14,
      "outputs": []
    },
    {
      "cell_type": "code",
      "source": [
        "# shuffle the data in corresponding order\n",
        "user_ids, movie_ids, ratings = shuffle(user_ids, movie_ids, ratings)"
      ],
      "metadata": {
        "id": "M-3QuOjtbUIC"
      },
      "execution_count": 15,
      "outputs": []
    },
    {
      "cell_type": "code",
      "source": [
        "Ntrain = int(0.8 * len(ratings))\n",
        "train_users = user_ids[:Ntrain]\n",
        "train_movies = movie_ids[:Ntrain]\n",
        "train_ratings = ratings[:Ntrain]\n",
        "\n",
        "test_users = user_ids[Ntrain:]\n",
        "test_movies = movie_ids[Ntrain:]\n",
        "test_ratings = ratings[Ntrain:]\n",
        "\n",
        "train_losses, test_losses = batch_gd2(\n",
        "    model, \n",
        "    criterion, \n",
        "    optimizer, \n",
        "    (train_users, train_movies, train_ratings), \n",
        "    (test_users, test_movies, test_ratings), \n",
        "    10)"
      ],
      "metadata": {
        "id": "ehWB6ukibWZr",
        "colab": {
          "base_uri": "https://localhost:8080/"
        },
        "outputId": "cca0c8cb-ee74-4f81-f00d-e26983656f46"
      },
      "execution_count": 16,
      "outputs": [
        {
          "output_type": "stream",
          "name": "stdout",
          "text": [
            "Epoch 1/10, Train Loss: 0.7356, Test Loss: 0.6909, Duration: 0:00:52.271245\n",
            "Epoch 2/10, Train Loss: 0.6682, Test Loss: 0.6624, Duration: 0:00:50.519699\n",
            "Epoch 3/10, Train Loss: 0.6356, Test Loss: 0.6509, Duration: 0:00:50.149967\n",
            "Epoch 4/10, Train Loss: 0.6142, Test Loss: 0.6428, Duration: 0:00:49.886218\n",
            "Epoch 5/10, Train Loss: 0.5969, Test Loss: 0.6417, Duration: 0:00:49.303522\n",
            "Epoch 6/10, Train Loss: 0.5839, Test Loss: 0.6343, Duration: 0:00:49.721797\n",
            "Epoch 7/10, Train Loss: 0.5741, Test Loss: 0.6331, Duration: 0:00:49.137345\n",
            "Epoch 8/10, Train Loss: 0.5667, Test Loss: 0.6271, Duration: 0:00:49.155352\n",
            "Epoch 9/10, Train Loss: 0.5608, Test Loss: 0.6249, Duration: 0:00:49.480570\n",
            "Epoch 10/10, Train Loss: 0.5559, Test Loss: 0.6261, Duration: 0:00:49.209432\n"
          ]
        }
      ]
    },
    {
      "cell_type": "code",
      "source": [
        "plt.plot(train_losses, label='train loss')\n",
        "plt.plot(test_losses, label='test loss')\n",
        "plt.legend()\n",
        "plt.show()"
      ],
      "metadata": {
        "colab": {
          "base_uri": "https://localhost:8080/",
          "height": 265
        },
        "id": "KqJrr_dttNxa",
        "outputId": "654fb1c4-291f-423e-97ba-2a066051c330"
      },
      "execution_count": 17,
      "outputs": [
        {
          "output_type": "display_data",
          "data": {
            "text/plain": [
              "<Figure size 432x288 with 1 Axes>"
            ],
            "image/png": "[encoded data removed]"
          },
          "metadata": {
            "needs_background": "light"
          }
        }
      ]
    }
  ]
}